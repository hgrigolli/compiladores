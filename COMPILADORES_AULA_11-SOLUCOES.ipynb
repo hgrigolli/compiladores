{
  "nbformat": 4,
  "nbformat_minor": 0,
  "metadata": {
    "colab": {
      "name": "COMPILADORES-AULA 11.ipynb",
      "provenance": [],
      "collapsed_sections": [],
      "include_colab_link": true
    },
    "kernelspec": {
      "name": "python3",
      "display_name": "Python 3"
    }
  },
  "cells": [
    {
      "cell_type": "markdown",
      "metadata": {
        "id": "view-in-github",
        "colab_type": "text"
      },
      "source": [
        "<a href=\"https://colab.research.google.com/github/lucianosilva-github/compiladores/blob/main/COMPILADORES_AULA_11-SOLUCOES.ipynb\" target=\"_parent\"><img src=\"https://colab.research.google.com/assets/colab-badge.svg\" alt=\"Open In Colab\"/></a>"
      ]
    },
    {
      "cell_type": "markdown",
      "metadata": {
        "id": "EwxHf3E81Qyz"
      },
      "source": [
        "**COMPILADORES - AULA 11**\n",
        "\n",
        "**Prof. Luciano Silva**\n",
        "\n",
        "**OBJETIVOS DA AULA:**\n",
        "\n",
        "*   Conhecer a estrutura do processador Intel 8086\n",
        "*   Conhecer as principais instruções do Assembly para 8086\n",
        "*   Implementar geração de código para a regra de expressões para o processador Intel 8086\n"
      ]
    },
    {
      "cell_type": "code",
      "metadata": {
        "id": "CbWUx55j1tLM",
        "colab": {
          "base_uri": "https://localhost:8080/"
        },
        "outputId": "3219b3ce-a898-4c4d-eafd-40ace2646695"
      },
      "source": [
        "!pip install rply"
      ],
      "execution_count": null,
      "outputs": [
        {
          "output_type": "stream",
          "text": [
            "Collecting rply\n",
            "  Downloading https://files.pythonhosted.org/packages/c0/7c/f66be9e75485ae6901ae77d8bdbc3c0e99ca748ab927b3e18205759bde09/rply-0.7.8-py2.py3-none-any.whl\n",
            "Requirement already satisfied: appdirs in /usr/local/lib/python3.7/dist-packages (from rply) (1.4.4)\n",
            "Installing collected packages: rply\n",
            "Successfully installed rply-0.7.8\n"
          ],
          "name": "stdout"
        }
      ]
    },
    {
      "cell_type": "markdown",
      "metadata": {
        "id": "OvjhEcTFIkFr"
      },
      "source": [
        "**ESTRUTURA DO PROCESSADOR INTEL 8086**\n",
        "\n",
        "O 8086 (também chamado de iAPX 86) é um microprocessador de 16 bits da Intel criado entre os anos de 1976 e 8 de Junho de 1978, quando ele foi lançado. O Intel 8088, lançado em 1º de Julho de 1979, é um chip suavemente modificado com um barramento externo de 8 bits (permitindo o uso de circuitos integrados mais baratos) e é notável como o processador usado no design original do IBM PC.\n",
        "\n",
        "<img src=\"https://upload.wikimedia.org/wikipedia/commons/2/2d/I8086.jpg\"></img>\n",
        "\n",
        "O processador 8086 deu à luz à Arquitetura x86, que eventualmente virou a linha de maior sucesso da Intel. Em 5 de Junho de 2018, a Intel lançou uma edição limitada de CPU celebrando o quadragésimo aniversário do Intel 8086, chamado Intel Core i7-8086K.\n",
        "\n",
        "O fluxograma mostrado abaixo pode ser subdividido em duas partes, chamado de Execute unit (EU) e Bus Interface Unit (BIU). A BIU consiste em um segmento de registradores, somados para gerar 20 bits de endereçamento e instrução. Uma vez que o endereço foi enviado à BIU, a instrução e os bytes dos dados são encontrados da memória e eles são empilhados numa pilha de 6 bytes.\n",
        "\n",
        "<img src=\"http://www.ppgia.pucpr.br/~santin/cc/2009/6/imagens/arquitetura8086.jpg\"></img>\n",
        "\n",
        "**Execution Unit(EU)**\n",
        "\n",
        "\n",
        "A unidade de execução consiste em... registradores 16-bit AX,BX, CX e DX e ponteiros como SP(Stack Pointer), BP (Base Pointer) e finalmente registros de índice como SI (Source Index) e DI(Destination Index). O registrador de 16-bit pode ser dividido em dois registradores de 8-bits. Por exemplo, AX pode ser dividido em registradores AH (High Byte) e AL (Low Byte), assim como os demais registradores de uso geral. Isso permite operações e compatibilidade do byte com a geração de processadores de 8-bit, o 8080 e 8085. A fonte do 8085 poderia ser \"traduzido\" no código do 8086 e montado.\n",
        "\n",
        "**Bus Interface Unit(BIU)**\n",
        "\n",
        "O interfaceamento da EU com o bus de dados e bus de endereços do sistema é feito pela BUS INTERFACE UNIT (BIU), que gera todo o endereçamento de memória (1 mega) e I/O (64K), assim como interfaceia o bus de dados do sistema (8 bits) com o bus de dados da EU (16 bits). A BIU é composta por 5 registradores de 16 bits, uma estrutura de armazenamento de dados tipo fila, para armazenamento de até 4 bytes de instruções e um sistema para gerar o endereçamento de 20 bits (1 MB de endereçamento), a partir de registradores de 16 bits cada.\n",
        "\n",
        "**Registradores**\n",
        "\n",
        "Os oitos registradores de uso geral da EU são descritos a seguir:\n",
        "\n",
        "* AX: é o chamado ACUMULADOR (o X refere-se a “eXtended”). O AX pode ser dividido em dois registradores de 8 bits: AL e AH, sendo AL formado pelo byte menos significativo (D0 a D7), enquanto AH é constituído pelo byte mais significativo (D8 a D15), podendo cada um deles ser acessado separadamente.\n",
        "\n",
        "* BX: assim como o AX, o BX também pode ser dividido em BL e BH. É o chamado registrador de BASE, pois pode ser usado como base de endereçamento para manipulação de tabelas.\n",
        "\n",
        "* CX: também pode ser dividido em CL e CH. É chamado registrador de CONTAGEM, pois além de trabalhar com dados também é usado para contagens em instruções com “LOOPS” na manipulação de strings.\n",
        "\n",
        "* DX: pode ser dividido em DL e DH. É chamado de registrador de DADOS, pois ele pode ser usado como uma extensão do AX em operações de multiplicação e divisão.\n",
        "\n",
        "* SP: é o STACK POINTER ou ponteiro de pilhas, que aponta para o topo da memória do tipo pilha usada pelo 8088.\n",
        "\n",
        "* BP: este registrador, que é chamado de BASE POINTER, é usado para endereçamento de memória (geralmente relacionado a pilha, ou seja, é uma registrador de base para a pilha). Pode conter o endereço inicial (base) de uma tabela que será manipulada pela CPU.\n",
        "\n",
        "* SI: SOURCE INDEX (registrador de índice que aponta para a origem dos dados que serão movimentados) é usado para indexação de tabelas no endereçamento indireto.\n",
        "\n",
        "* DI: DESTINATION INDEX (registrador de índice que aponta para o destino dos dados que serão movimentados). Assim como o SI, o registrador DI é utilizado para a indexação no endereçamento indireto.\n",
        "\n",
        "\n",
        "**Registradores de Flags**\n",
        "\n",
        "O registrador de flags contém os seguintes principais bits:\n",
        "\n",
        "* ZF (Zero Flag): indica se o resultado de uma operação aritmética é igual a zero (1) ou diferente de zero (0). Se numa operação os valores são iguais o ZF = 1.\n",
        "\n",
        "* SF (Sign Flag): indica se o resultado de uma operação com sinal é positivo (0), em caso contrário (1).\n",
        "\n",
        "* TF (Trap Flag): permite a operação “passo a passo” para debug.\n",
        "\n",
        "* IF (Interrupt Flag): indica se as interrupções estão habilitadas (1) ou não (0).\n",
        "\n",
        "* DF (Direction Flag): para operações com strings, se D=0 os registradores de índice serão incrementados, caso contrário (D=1) serão decrementados.\n",
        "\n",
        "* OF (Overflow Flag): indica um estouro da capacidade de armazenamento de um registrador.\n",
        "\n",
        "\n",
        "**Registradores de Segmento**\n",
        "\n",
        "Os endereços dos segmentos são armazenados nos 4 seguintes registradores da BIU:\n",
        "\n",
        "* CS (CODE SEGMENT): endereça o segmento onde devem estar as instruções a serem executadas pela CPU.\n",
        "\n",
        "* SS (STACK SEGMENT): endereça o segmento que está reservado ao uso da PILHA ou STACK.\n",
        "\n",
        "* DS (DATA SEGMENT): como o nome diz, acessa o segmento reservado aos dados manipulados pelo 8088.\n",
        "\n",
        "* ES (EXTRA SEGMENT): é usado para acessar outro segmento que conterá dados. Normalmente, é usado para manipulação de tabelas e strings.\n",
        "\n",
        "\n",
        "\n"
      ]
    },
    {
      "cell_type": "markdown",
      "metadata": {
        "id": "7iMxcCqEKbU2"
      },
      "source": [
        "**ASSEMBLY PARA INTEL 8086**\n",
        "\n",
        "A seguir, temos um resumo das principais instruções (mnemônicos) do Assembly Intel 8086:\n",
        "\n",
        "**Operações Aritméticas**\n",
        "\n",
        "* **ADD:** Realiza a adição de dois dados e armazena o resultado no registrador da esquerda.\n",
        "Ex.:\n",
        "\n",
        "  mov al, 1\n",
        "\n",
        "  mov bl, 2\n",
        "\n",
        "  add al, bl\n",
        "\n",
        "\n",
        "* **INC:** Incrementa em 1 o registrador especificado.\n",
        "\n",
        "* **SUB:** Realiza a subtração de um dado por outro e armazena o resultado no registrador da esquerda.\n",
        "Ex.:\n",
        "\n",
        "  mov al, 1\n",
        "\n",
        "  mov bl, 2\n",
        "\n",
        "  sub al, bl\n",
        "\n",
        "* **DEC:** Decrementa em 1 o registrador especificado.\n",
        "\n",
        "* **CMP:** Faz a comparação entre dois valores.\n",
        "Ex.:\n",
        "\n",
        "  cmp al, 1\n",
        "\n",
        "  cmp ah, [var]\n",
        "\n",
        "  cmp al, ah\n",
        "\n",
        "* **MUL/IMUL:** para multiplicações não-sinalizadas utilizamos o comando MUL. Já para multiplicações sinalizadas, o comando usado é o IMUL. \n",
        "Ex.:\n",
        "\n",
        "  mov al, 1\n",
        "\n",
        "  mov bl, 2\n",
        "\n",
        "  mul al,bl\n",
        "\n",
        "  mov bl, 3\n",
        "\n",
        "  imul bl\n",
        "\n",
        "* **DIV/IDIV:** Realiza a divisão de valores. Para divisões não-sinalizadas, usamos o comando DIV. Já para multiplicações sinalizadas, o comando usado é o IDIV.\n",
        "Ex.:\n",
        "\n",
        "  mov al, 1\n",
        "\n",
        "  mov bl, 2\n",
        "\n",
        "  div al,bl\n",
        "\n",
        "OBS.: Nesse caso, AL tem AX/BL e AH tem AX%BL.\n",
        "\n",
        "**Lógicas**\n",
        "\n",
        "* **AND:** Executa a função E bit-a-bit.\n",
        "\n",
        "* **NOT:** É o operando de negação, que executa a operação bit-a-bit.\n",
        "\n",
        "* **OR:** É o operando lógico OU, que executa a operação bit-a-bit.\n",
        "\n",
        "* **XOR:** Operando lógico do OU EXCLUSIVO, também bit-a-bit.\n",
        "\n",
        "\n",
        "**Controle**\n",
        "\n",
        "* **JMP:** Salto incondicional para outra parte do programa.\n",
        "\n",
        "* **JE/JZ:** Salta para outra parte do programa no caso do primeiro valor ser igual ao segundo.\n",
        "\n",
        "* **JL/JNGE:** Salta caso o primeiro operador seja menor que o segundo (números sinalizados).\n",
        "\n",
        "* **JLE/JNG:** Salta caso o primeiro operador seja menor ou igual ao segundo (números sinalizados).\n",
        "\n",
        "* **JB/JNAE:** Salta caso o primeiro operador seja menor que o segundo (números nãosinalizados).\n",
        "\n",
        "* **JBE/JNA:** Salta caso o primeiro operador seja menor ou igual ao segundo (números nãosinalizados).\n",
        "\n",
        "* **JO:** Salta caso haja estouro de capacidade (overflow).\n",
        "\n",
        "* **JNE/JNZ:** Salta se o primeiro valor for diferente do segundo.\n",
        "\n",
        "* **JNL/JGE:** Salta se o primeiro valor for menor do segundo.\n",
        "\n",
        "* **JNLE/JG:** Salta caso o primeiro seja menor ou igual ao segundo (números nãosinalizados).\n",
        "\n",
        "* **JNB/JAE:** Salta se o primeiro valor não for menor que o segundo.\n",
        "\n",
        "* **JNBE/JA:** Salta se o primeiro valor não for menor ou igual ao segundo.\n",
        "\n",
        "* **JNO:** Salta se não houver estouro de capacidade.\n",
        "\n",
        "\n",
        "**Transferência de Dados**\n",
        "\n",
        "* **MOV:** Move dados para registradores, ou dos registradores para a memória. Ex.: mov AL, 30 _ move para AL o valor 30\n",
        "\n",
        "\n",
        "**Diretivas**\n",
        "\n",
        "* **DB:** Definição de Byte (1 byte).\n",
        "\n",
        "* **DW:** Definição de Word (2 bytes).\n",
        "\n",
        "* **HLT:** usado para acabar com a execução (parar o processador).\n"
      ]
    },
    {
      "cell_type": "markdown",
      "metadata": {
        "id": "7M719ZShToDr"
      },
      "source": [
        "**GERAÇÃO DE CÓDIGO PARA PROCESSADOR-ALVO (Intel 8086)**\n",
        "\n",
        "Uma vez que tenhamos passado pela fase de alocação de registradores, para que o código intermediário em P-code possa ser transformado em código para o processador-alvo (Intel 8086), devemos associar cada posição da pilha utilizada pelo programa a um registrador. \n",
        "\n",
        "No exemplo do código em P-code abaixo, calculamos (na última aula) que 3 registradores seriam necessários para alocar todas as posições utilizadas na pilha. Assim, poderíamos fazer a seguinte associação: posição 0 --> registrador ax; posição 1 --> registrador bx e posição 2 --> registrador cx.\n",
        "\n",
        "Com esta alocação, o código final (para o processador Intel 8086) ficaria como:\n",
        "\n",
        "<table border=1>\n",
        "<tr> <th> Código Intermediário<th> Conjunto de Longevidade <th> Aresta (arestas) <th> Código Assembly 8086\n",
        "<tr> <td> lit 0 2 <td> 0 <td> <td> mov ax, 2\n",
        "<tr> <td> lod 0 x  <td> 0 1 <td> 0-1 <td> mov bx, x\n",
        "<tr> <td> opr 0 4 <td> 0 <td> <td> mul ax,bx\n",
        "<tr> <td> lit 0 60 <td> 0 1 <td> 0-1 <td> mov bx,60\n",
        "<tr> <td> lod 0 y <td> 0 1 2 <td> 0-1 0-2 1-2<td> mov cx, y\n",
        "<tr> <td> opr 0 5 <td> 0 1 <td>0-1 <td> div bx,cx\n",
        "<tr> <td> opr 0 3 <td> 0 <td> <td> sub ax,bx\n",
        "</table> "
      ]
    },
    {
      "cell_type": "markdown",
      "metadata": {
        "id": "cVnS1-NfbcWa"
      },
      "source": [
        "**EXERCÍCIO**\n",
        "\n",
        "Dado o código intermediário associado às expressões, faça a sua transformação para código do processador Intel 8086 **\\< expression \\>** :\n"
      ]
    },
    {
      "cell_type": "markdown",
      "metadata": {
        "id": "V2DJEWc_b2aH"
      },
      "source": [
        "\\<prog\\> ::= \\<var-decls\\> \\<atrib\\>\n",
        "\n",
        "\\<var-decls\\> ::= \\<var-decl\\> \n",
        "\n",
        "       | \\<var-decl\\> \\<var-decls\\>\n",
        "\n",
        "\\<var-decl\\> ::= \\<type\\> ID ;\n",
        "\n",
        "\\<type\\> ::= int | string \n",
        "\n",
        "\\<atrib\\> ::= ID = \\<expression\\>\n",
        "\n",
        "\\<expression\\> ::= ID\n",
        "\n",
        "      | NUMBER\n",
        "\n",
        "      | \\<expression\\> \"+\" \\<expression\\>\n",
        " \n",
        "      | \\<expression\\> \"-\" \\<expression\\>\n",
        " \n",
        "      | \\<expression\\> \"*\" \\<expression\\>\n",
        " \n",
        "      | \\<expression\\> \"/\" \\<expression\\>\n",
        " \n",
        "      | \"(\" <expression> \")\""
      ]
    },
    {
      "cell_type": "markdown",
      "metadata": {
        "id": "7OXTzrwi7o0U"
      },
      "source": [
        "* Implementação do analisador léxico:\n",
        "\n",
        "\n",
        "\n"
      ]
    },
    {
      "cell_type": "code",
      "metadata": {
        "id": "PnT-UX-_6xUo"
      },
      "source": [
        "from rply import LexerGenerator\n",
        "\n",
        "lg = LexerGenerator()\n",
        "\n",
        "lg.add('NUMBER', r'\\d+')\n",
        "lg.add('PLUS', r'\\+')\n",
        "lg.add('MINUS', r'-')\n",
        "lg.add('MUL', r'\\*')\n",
        "lg.add('DIV', r'/')\n",
        "lg.add('OPEN_PARENS', r'\\(')\n",
        "lg.add('CLOSE_PARENS', r'\\)')\n",
        "\n",
        "lg.add('INT', r'int')\n",
        "lg.add('STRING', r'string')\n",
        "lg.add('ID', r'[a-zA-z][a-zA-z0-9]*')\n",
        "lg.add('EQUALS', r'=')\n",
        "lg.add('SEMICOL', r';')\n",
        "\n",
        "lg.ignore('\\s+')\n",
        "\n",
        "lexer = lg.build()"
      ],
      "execution_count": null,
      "outputs": []
    },
    {
      "cell_type": "markdown",
      "metadata": {
        "id": "TSVSY10PLdX0"
      },
      "source": [
        "* Classes dos nós da árvore sintática, já com o método accept para receber os visitors:"
      ]
    },
    {
      "cell_type": "code",
      "metadata": {
        "id": "7EIkOycX64Ry"
      },
      "source": [
        "from rply.token import BaseBox\n",
        "\n",
        "class Prog(BaseBox):\n",
        "    def __init__(self, decls,atrib):\n",
        "        self.decls = decls\n",
        "        self.atrib = atrib\n",
        "\n",
        "    def accept(self, visitor):\n",
        "        visitor.visit_prog(self)\n",
        "\n",
        "class VarDecls(BaseBox):\n",
        "    def __init__(self, decl,decls):\n",
        "        self.decl = decl\n",
        "        self.decls = decls\n",
        "\n",
        "    def accept(self, visitor):\n",
        "        visitor.visit_vardecls(self)\n",
        "\n",
        "class VarDecl(BaseBox):\n",
        "    def __init__(self, id,tp):\n",
        "        self.id = id\n",
        "        self.tp = tp\n",
        "        \n",
        "\n",
        "    def accept(self, visitor):\n",
        "        visitor.visit_vardecl(self)\n",
        "\n",
        "class Atrib(BaseBox):\n",
        "    def __init__(self, id,expr):\n",
        "        self.id = id\n",
        "        self.expr = expr\n",
        "\n",
        "    def accept(self, visitor):\n",
        "        visitor.visit_atrib(self)\n",
        "\n",
        "class Expr(BaseBox):\n",
        "    def accept(self, visitor):\n",
        "        method_name = 'visit_{}'.format(self.__class__.__name__.lower())\n",
        "        visit = getattr(visitor, method_name)\n",
        "        visit(self)\n",
        "\n",
        "class Id(Expr):\n",
        "    def __init__(self, value):\n",
        "        self.value = value\n",
        "\n",
        "class Number(Expr):\n",
        "    def __init__(self, value):\n",
        "        self.value = value\n",
        "\n",
        "\n",
        "class BinaryOp(Expr):\n",
        "    def __init__(self, left, right):\n",
        "        self.left = left\n",
        "        self.right = right\n",
        "\n",
        "class Add(BinaryOp):\n",
        "  pass\n",
        "    \n",
        "\n",
        "class Sub(BinaryOp):\n",
        "  pass\n",
        "   \n",
        "\n",
        "class Mul(BinaryOp):\n",
        "  pass\n",
        "    \n",
        "\n",
        "class Div(BinaryOp):\n",
        "  pass\n",
        "    "
      ],
      "execution_count": null,
      "outputs": []
    },
    {
      "cell_type": "markdown",
      "metadata": {
        "id": "C7kMPyOivGfx"
      },
      "source": [
        "* Implementação do analisador sintático:"
      ]
    },
    {
      "cell_type": "code",
      "metadata": {
        "id": "TAoYMBUSd9R4"
      },
      "source": [
        "from rply import ParserGenerator\n",
        "\n",
        "pg = ParserGenerator(\n",
        "    # A list of all token names, accepted by the lexer.\n",
        "    ['NUMBER', 'OPEN_PARENS', 'CLOSE_PARENS',\n",
        "     'PLUS', 'MINUS', 'MUL', 'DIV', 'INT', 'STRING', 'ID','SEMICOL',\n",
        "     'EQUALS'\n",
        "    ],\n",
        "    # A list of precedence rules with ascending precedence, to\n",
        "    # disambiguate ambiguous production rules.\n",
        "    precedence=[\n",
        "        ('left', ['PLUS', 'MINUS']),\n",
        "        ('left', ['MUL', 'DIV'])    \n",
        "    ]\n",
        ")\n",
        "\n",
        "@pg.production('prog : vardecls atrib')\n",
        "def prog(p):\n",
        "    return Prog(p[0],p[1])\n",
        "\n",
        "@pg.production('vardecls : vardecl')\n",
        "def expression_vardeclsOne(p):\n",
        "    return VarDecls(p[0],None) \n",
        "\n",
        "@pg.production('vardecls : vardecl vardecls')\n",
        "def vardecls(p):\n",
        "    return VarDecls(p[0],p[1])\n",
        "\n",
        "@pg.production('vardecl : STRING ID SEMICOL')\n",
        "def expression_vardeclstring(p):\n",
        "    return VarDecl(p[1].getstr(), p[0].getstr())\n",
        "\n",
        "@pg.production('vardecl : INT ID SEMICOL')\n",
        "def expression_vardeclint(p):\n",
        "    return VarDecl(p[1].getstr(), p[0].getstr())\n",
        "\n",
        "@pg.production('atrib : ID EQUALS expression')\n",
        "def atrib(p):\n",
        "    return Atrib(p[0].getstr(),p[2])\n",
        "\n",
        "\n",
        "@pg.production('expression : ID')\n",
        "def expression_id(p):\n",
        "    return Id(p[0].getstr())\n",
        "\n",
        "@pg.production('expression : NUMBER')\n",
        "def expression_number(p):\n",
        "    return Number(int(p[0].getstr()))\n",
        "\n",
        "@pg.production('expression : OPEN_PARENS expression CLOSE_PARENS')\n",
        "def expression_parens(p):\n",
        "    return p[1]\n",
        "\n",
        "@pg.production('expression : expression PLUS expression')\n",
        "@pg.production('expression : expression MINUS expression')\n",
        "@pg.production('expression : expression MUL expression')\n",
        "@pg.production('expression : expression DIV expression')\n",
        "def expression_binop(p):\n",
        "    left = p[0]\n",
        "    right = p[2]\n",
        "    if p[1].gettokentype() == 'PLUS':\n",
        "        return Add(left, right)\n",
        "    elif p[1].gettokentype() == 'MINUS':\n",
        "        return Sub(left, right)\n",
        "    elif p[1].gettokentype() == 'MUL':\n",
        "        return Mul(left, right)\n",
        "    elif p[1].gettokentype() == 'DIV':\n",
        "        return Div(left, right)\n",
        "    else:\n",
        "        raise AssertionError('Oops, this should not be possible!')\n",
        "\n",
        "parser = pg.build()"
      ],
      "execution_count": null,
      "outputs": []
    },
    {
      "cell_type": "markdown",
      "metadata": {
        "id": "XWyEiA-nvJF4"
      },
      "source": [
        "* Visitor para montar a tabela de símbolos:"
      ]
    },
    {
      "cell_type": "code",
      "metadata": {
        "id": "s2P8znQxdM0v"
      },
      "source": [
        "ST={}\n",
        "\n",
        "class Visitor(object):\n",
        "  pass\n",
        "\n",
        "class SymbolTable(Visitor):\n",
        "    def visit_prog(self, prog):\n",
        "        prog.decls.accept(self)\n",
        "        \n",
        "    def visit_vardecls(self, d):\n",
        "        d.decl.accept(self)\n",
        "        if d.decls!=None:\n",
        "          d.decls.accept(self)\n",
        "\n",
        "    def visit_vardecl(self, d):\n",
        "        ST[d.id]=d.tp\n",
        "        "
      ],
      "execution_count": null,
      "outputs": []
    },
    {
      "cell_type": "markdown",
      "metadata": {
        "id": "Itq8qe8-vqpW"
      },
      "source": [
        "* Visitor para decoração da árvore: "
      ]
    },
    {
      "cell_type": "code",
      "metadata": {
        "id": "ijGTf-c4vzh8"
      },
      "source": [
        "class Decorator(Visitor):\n",
        "\n",
        "    def visit_prog(self, i):\n",
        "        i.atrib.accept(self)\n",
        "\n",
        "    def visit_atrib(self, i):\n",
        "        if i.id in ST:\n",
        "          i.id_decor_type=ST[i.id]\n",
        "        else:\n",
        "          raise AssertionError('id not declared')\n",
        "        i.expr.accept(self)\n",
        "        i.expr_decor_type=i.expr.decor_type\n",
        "\n",
        "    def visit_id(self, i):\n",
        "        if i.value in ST:\n",
        "          i.decor_type=ST[i.value]\n",
        "        else:\n",
        "          raise AssertionError('id not declared')\n",
        "\n",
        "\n",
        "    def visit_number(self, i):\n",
        "        i.decor_type=\"int\"\n",
        "        \n",
        "\n",
        "    def visit_add(self, a):\n",
        "        a.left.accept(self)\n",
        "        a.right.accept(self)\n",
        "        if a.left.decor_type==\"int\" and a.right.decor_type==\"int\":\n",
        "          a.decor_type=\"int\"\n",
        "          \n",
        "\n",
        "    def visit_sub(self, a):\n",
        "        a.left.accept(self)\n",
        "        a.right.accept(self)\n",
        "        if a.left.decor_type==\"int\" and a.right.decor_type==\"int\":\n",
        "          a.decor_type=\"int\"\n",
        "\n",
        "    def visit_mul(self, a):\n",
        "        a.left.accept(self)\n",
        "        a.right.accept(self)\n",
        "        if a.left.decor_type==\"int\" and a.right.decor_type==\"int\":\n",
        "          a.decor_type=\"int\"\n",
        "\n",
        "    def visit_div(self, a):\n",
        "        a.left.accept(self)\n",
        "        a.right.accept(self)\n",
        "        if a.left.decor_type==\"int\" and a.right.decor_type==\"int\":\n",
        "          a.decor_type=\"int\""
      ],
      "execution_count": null,
      "outputs": []
    },
    {
      "cell_type": "markdown",
      "metadata": {
        "id": "YtxVdoQsv5I3"
      },
      "source": [
        "* Visitor para verificação de tipos:"
      ]
    },
    {
      "cell_type": "code",
      "metadata": {
        "id": "mybtKcI5wARU"
      },
      "source": [
        "class TypeVerifier(Visitor):\n",
        "\n",
        "    def visit_prog(self, i):\n",
        "        i.atrib.accept(self)\n",
        "\n",
        "    def visit_atrib(self, i):\n",
        "        if i.id_decor_type!=i.expr_decor_type:\n",
        "          raise AssertionError('type error')\n",
        "\n",
        "    def visit_add(self, a):\n",
        "        if a.left.decor_type != a.right.decor_type:\n",
        "          raise AssertionError('type error')\n",
        "          \n",
        "\n",
        "    def visit_sub(self, a):\n",
        "        if a.left.decor_type != a.right.decor_type:\n",
        "          raise AssertionError('type error')\n",
        "\n",
        "    def visit_mul(self, a):\n",
        "        if a.left.decor_type != a.right.decor_type:\n",
        "          raise AssertionError('type error')\n",
        "\n",
        "    def visit_div(self, a):\n",
        "        if a.left.decor_type != a.right.decor_type:\n",
        "          raise AssertionError('type error')"
      ],
      "execution_count": null,
      "outputs": []
    },
    {
      "cell_type": "markdown",
      "metadata": {
        "id": "zUY1YiXVZpTN"
      },
      "source": [
        "* Geração de código intermediário em P-code:"
      ]
    },
    {
      "cell_type": "code",
      "metadata": {
        "id": "i54AdkltZdxm"
      },
      "source": [
        "class IntermediateCode(Visitor):\n",
        "\n",
        "  \n",
        "  def __init__(self):\n",
        "    self.ic=[] \n",
        "\n",
        "  def visit_prog(self, i):\n",
        "    i.atrib.accept(self)\n",
        "    \n",
        "  def visit_atrib(self, i):\n",
        "    i.expr.accept(self)\n",
        "        \n",
        "\n",
        "  def visit_id(self, i):\n",
        "    self.ic.append(\"lod 0 \"+i.value)\n",
        "\n",
        "\n",
        "  def visit_number(self, i):\n",
        "    self.ic.append(\"lit 0 \"+str(i.value))\n",
        "        \n",
        "\n",
        "  def visit_add(self, a):\n",
        "    a.left.accept(self)\n",
        "    a.right.accept(self)\n",
        "    self.ic.append(\"opr 0 2\")\n",
        "          \n",
        "\n",
        "  def visit_sub(self, a):\n",
        "    a.left.accept(self)\n",
        "    a.right.accept(self)\n",
        "    self.ic.append(\"opr 0 3\")\n",
        "\n",
        "  def visit_mul(self, a):\n",
        "    a.left.accept(self)\n",
        "    a.right.accept(self)\n",
        "    self.ic.append(\"opr 0 4\")\n",
        "\n",
        "  def visit_div(self, a):\n",
        "    a.left.accept(self)\n",
        "    a.right.accept(self)\n",
        "    self.ic.append(\"opr 0 5\")"
      ],
      "execution_count": null,
      "outputs": []
    },
    {
      "cell_type": "markdown",
      "metadata": {
        "id": "iuSmtWs0Z7Kt"
      },
      "source": [
        "* Análise de longevidade"
      ]
    },
    {
      "cell_type": "code",
      "metadata": {
        "id": "sM0UvSBbgkdu"
      },
      "source": [
        "def liveness_analysis(ic):\n",
        "  ic_la=[]\n",
        "  la=set({})\n",
        "  t=0\n",
        "  for i in ic:\n",
        "    if i.startswith(\"lit\") or i.startswith(\"lod\"):\n",
        "      la=la.union(set({t}))\n",
        "      t=t+1\n",
        "    elif i.startswith(\"opr\"):\n",
        "          la.remove(t-1)\n",
        "          t=t-1\n",
        "    ic_la.append((i,la.copy()))\n",
        "  return ic_la\n"
      ],
      "execution_count": null,
      "outputs": []
    },
    {
      "cell_type": "code",
      "metadata": {
        "id": "NGNy8WfkZ0BS",
        "colab": {
          "base_uri": "https://localhost:8080/"
        },
        "outputId": "915a360a-7b8f-4899-d4e0-7b481b42772f"
      },
      "source": [
        "arvore=parser.parse(lexer.lex('int x;int y;int z;z=2*x-60/y'))\n",
        "arvore.accept(SymbolTable())\n",
        "arvore.accept(Decorator())\n",
        "arvore.accept(TypeVerifier())\n",
        "icvisitor=IntermediateCode()\n",
        "arvore.accept(icvisitor)\n",
        "ic=icvisitor.ic   \n",
        "ic_la=liveness_analysis(ic)\n",
        "for p in ic_la:\n",
        "  print(p,\"\\n\")\n"
      ],
      "execution_count": null,
      "outputs": [
        {
          "output_type": "stream",
          "text": [
            "('lit 0 2', {0}) \n",
            "\n",
            "('lod 0 x', {0, 1}) \n",
            "\n",
            "('opr 0 4', {0}) \n",
            "\n",
            "('lit 0 60', {0, 1}) \n",
            "\n",
            "('lod 0 y', {0, 1, 2}) \n",
            "\n",
            "('opr 0 5', {0, 1}) \n",
            "\n",
            "('opr 0 3', {0}) \n",
            "\n"
          ],
          "name": "stdout"
        }
      ]
    },
    {
      "cell_type": "markdown",
      "metadata": {
        "id": "G6jlt0LeafBs"
      },
      "source": [
        "* Alocação de registradores"
      ]
    },
    {
      "cell_type": "code",
      "metadata": {
        "id": "ShSUPy7Xs4Zd",
        "colab": {
          "base_uri": "https://localhost:8080/",
          "height": 248
        },
        "outputId": "ea0df13b-ad8f-4e19-ea0b-d55b53e42230"
      },
      "source": [
        "import networkx as nx\n",
        "import matplotlib.pyplot as plt\n",
        "import itertools\n",
        "   \n",
        "  \n",
        "class GraphVisualization:\n",
        "   \n",
        "    def __init__(self):\n",
        "        self.visual = []\n",
        "          \n",
        "    \n",
        "    def addEdge(self, a, b):\n",
        "        temp = [a, b]\n",
        "        self.visual.append(temp)\n",
        "          \n",
        "    def visualize(self):\n",
        "        self.graph = nx.Graph()\n",
        "        self.graph.add_edges_from(self.visual)\n",
        "        nx.draw_networkx(self.graph)\n",
        "        plt.show()\n",
        "  \n",
        "G = GraphVisualization()\n",
        "\n",
        "for (instr,live) in ic_la:\n",
        "  edges = itertools.combinations(live, 2)\n",
        "  for (a,b) in edges:\n",
        "    G.addEdge(a,b)\n",
        "G.visualize()"
      ],
      "execution_count": null,
      "outputs": [
        {
          "output_type": "display_data",
          "data": {
            "image/png": "[encoded data removed]",
            "text/plain": [
              "<Figure size 432x288 with 1 Axes>"
            ]
          },
          "metadata": {
            "tags": []
          }
        }
      ]
    },
    {
      "cell_type": "code",
      "metadata": {
        "id": "UaRzZJpKaPUx",
        "colab": {
          "base_uri": "https://localhost:8080/"
        },
        "outputId": "4a9770ac-3f21-4f10-f925-833d16485431"
      },
      "source": [
        "colors = nx.coloring.greedy_color(G.graph, strategy=\"largest_first\")\n",
        "if colors=={}:\n",
        "  colors={0:0}\n",
        "print(\"posição:registrador\\n\",colors)\n",
        "r_8086=[\"ax\",\"bx\",\"cx\",\"dx\"]"
      ],
      "execution_count": null,
      "outputs": [
        {
          "output_type": "stream",
          "text": [
            "posição:registrador\n",
            " {0: 0, 1: 1, 2: 2}\n"
          ],
          "name": "stdout"
        }
      ]
    },
    {
      "cell_type": "markdown",
      "metadata": {
        "id": "yOkHj610mT3W"
      },
      "source": [
        "Seu desafio, a partir dos registradores estarem alocados será gerar o código em Assembly 8086 conforme modelo visto em aula:\n",
        "\n",
        "<table border=1>\n",
        "<tr> <th> Código Intermediário<th> Conjunto de Longevidade <th> Aresta (arestas) <th> Código Assembly 8086\n",
        "<tr> <td> lit 0 2 <td> 0 <td> <td> mov ax, 2\n",
        "<tr> <td> lod 0 x  <td> 0 1 <td> 0-1 <td> mov bx, x\n",
        "<tr> <td> opr 0 4 <td> 0 <td> <td> mul ax,bx\n",
        "<tr> <td> lit 0 60 <td> 0 1 <td> 0-1 <td> mov bx,60\n",
        "<tr> <td> lod 0 y <td> 0 1 2 <td> 0-1 0-2 1-2<td> mov cx, y\n",
        "<tr> <td> opr 0 5 <td> 0 1 <td>0-1 <td> div bx,cx\n",
        "<tr> <td> opr 0 3 <td> 0 <td> <td> sub ax,bx\n",
        "</table> "
      ]
    },
    {
      "cell_type": "code",
      "metadata": {
        "colab": {
          "base_uri": "https://localhost:8080/"
        },
        "id": "JUcMnBGhlqrO",
        "outputId": "0469aa93-335d-4ec4-ceff-8d95b89e814b"
      },
      "source": [
        "def Intel8086Code(ic_la):\n",
        "  \"Para cada instrução, seu código deve imprimir o código em Assembly 8086 correspondente, usando os registradores encontrados em colors\"\n",
        "  t=0\n",
        "  oprs=[\"add\",\"sub\",\"mul\",\"div\"]\n",
        "  for i,_ in ic_la:\n",
        "    instruction, op1,op2 = i.split()\n",
        "    if instruction==\"lit\" or instruction==\"lod\":\n",
        "      print(\"mov\",r_8086[colors[t]],\",\",op2)\n",
        "      t=t+1\n",
        "    elif instruction==\"opr\":\n",
        "          t=t-1\n",
        "          print(oprs[int(op2)-2],r_8086[colors[t-1]],\",\",r_8086[colors[t]])\n",
        "\n",
        "Intel8086Code(ic_la)"
      ],
      "execution_count": null,
      "outputs": [
        {
          "output_type": "stream",
          "text": [
            "mov ax , 2\n",
            "mov bx , x\n",
            "mul ax , bx\n",
            "mov bx , 60\n",
            "mov cx , y\n",
            "div bx , cx\n",
            "sub ax , bx\n"
          ],
          "name": "stdout"
        }
      ]
    },
    {
      "cell_type": "markdown",
      "metadata": {
        "id": "do2qpZbiew22"
      },
      "source": [
        "**GERAÇÃO DE CÓDIGO PARA OUTROS COMANDOS (IF, WHILE)**\n",
        "\n",
        "Códigos para comandos como IF e WHILE podem ser gerados com as **instruções de desvios** (JMP, JL, JE, JNE, JZ,...). Por exemplo, vamos considerar o comando IF mostrado abaixo:\n",
        "\n",
        "    if (x==3) \n",
        "      y=4;\n",
        "    else y=5;\n",
        "\n",
        "O código em Assembly faria uso de rótulos com instruções de desvio:\n",
        "\n",
        "            mov ax,x\n",
        "\n",
        "            mov bx,3\n",
        "\n",
        "            cmp ax,bx     # compara valor dos registradores \n",
        "\n",
        "            jne FALSE     # se x não for igual a 3, pula para ELSE\n",
        "\n",
        "            mov y,4\n",
        "\n",
        "            jmp CONT      # pula o código de ELSE\n",
        "\n",
        "    FALSE:  mov y,5\n",
        "\n",
        "    CONT:   ...\n",
        "\n",
        "\n",
        "O comando WHILE pode ser reduzido para um comando IF:\n",
        "\n",
        "    while (x >= 0)\n",
        "      y++;\n",
        "    y+=2;\n",
        "\n",
        "\n",
        "    LOOP: mov ax,x\n",
        "          mov bx,0\n",
        "          cmp ax,bx\n",
        "          jl CONT     # se ax < bx (x<0) sai do LOOP\n",
        "          mov cx,y\n",
        "          inc cx\n",
        "          mov y,cx\n",
        "          jmp LOOP    # volta a executar o LOOP\n",
        "    CONT: mov cx,y\n",
        "          add cx,2\n",
        "          mov y,cx"
      ]
    }
  ]
}