{
  "nbformat": 4,
  "nbformat_minor": 0,
  "metadata": {
    "colab": {
      "name": "COMPILADORES-AULA 10.ipynb",
      "provenance": [],
      "collapsed_sections": [],
      "include_colab_link": true
    },
    "kernelspec": {
      "name": "python3",
      "display_name": "Python 3"
    }
  },
  "cells": [
    {
      "cell_type": "markdown",
      "metadata": {
        "id": "view-in-github",
        "colab_type": "text"
      },
      "source": [
        "<a href=\"https://colab.research.google.com/github/lucianosilva-github/compiladores/blob/main/COMPILADORES_AULA_10-SOLUCOES.ipynb\" target=\"_parent\"><img src=\"https://colab.research.google.com/assets/colab-badge.svg\" alt=\"Open In Colab\"/></a>"
      ]
    },
    {
      "cell_type": "markdown",
      "metadata": {
        "id": "EwxHf3E81Qyz"
      },
      "source": [
        "**COMPILADORES - AULA 10**\n",
        "\n",
        "**Prof. Luciano Silva**\n",
        "\n",
        "**OBJETIVOS DA AULA:**\n",
        "\n",
        "*   Conhecer a análise de longevidade programas escritos em código intermediário\n",
        "*   Conhecer o processo de alocação de registradores para código intermediário\n",
        "*   Implementar a análise de longevidade para código intermediário de expressões aritméticas\n",
        "*   Implementar a alocação de registradores para código intermediário de variáveis\n"
      ]
    },
    {
      "cell_type": "code",
      "metadata": {
        "id": "CbWUx55j1tLM",
        "colab": {
          "base_uri": "https://localhost:8080/"
        },
        "outputId": "c234e40c-a1cf-4d99-a3d7-53405abe3452"
      },
      "source": [
        "!pip install rply"
      ],
      "execution_count": 1,
      "outputs": [
        {
          "output_type": "stream",
          "text": [
            "Collecting rply\n",
            "  Downloading https://files.pythonhosted.org/packages/c0/7c/f66be9e75485ae6901ae77d8bdbc3c0e99ca748ab927b3e18205759bde09/rply-0.7.8-py2.py3-none-any.whl\n",
            "Requirement already satisfied: appdirs in /usr/local/lib/python3.7/dist-packages (from rply) (1.4.4)\n",
            "Installing collected packages: rply\n",
            "Successfully installed rply-0.7.8\n"
          ],
          "name": "stdout"
        }
      ]
    },
    {
      "cell_type": "markdown",
      "metadata": {
        "id": "OvjhEcTFIkFr"
      },
      "source": [
        "**TRANSIÇÃO DE CÓDIGO INTERMEDIÁRIO PARA CÓDIGO DO PROCESSADOR-ALVO**\n",
        "\n",
        "Quando geramos código intermediário, tomamos a liberdade de usar um número infinito de registradores. Na máquina de P-Code podíamos usar um número infinito de posições na pilha de execução do programa.\n",
        "\n",
        "Porém, quando vamos gerar o código final para um processador-alvo (um Intel 8086, por exemplo), temos que alocar um número finito de registradores. Para calcular esta alocação, dependemos de dois procedimentos:\n",
        "\n",
        "* **análise de longevidade:** para cada instrução, vamos determinar quais registradores de código intermediário precisam estar ativos naquele momento.\n",
        "\n",
        "* **alocação de registradores:** com base nos dados da análise de longevidade, vamos criar um grafo de dependências. A partir deste grafo, tentamos realizar uma coloração do grafo com uma quantidade de cores igual ao número de registradores disponíveis. Caso seja possível, a alocação é realizada com as cores utilizadas na coloração."
      ]
    },
    {
      "cell_type": "markdown",
      "metadata": {
        "id": "7iMxcCqEKbU2"
      },
      "source": [
        "**ANÁLISE DE LONGEVIDADE (LIVENESS ANALYSIS)**\n",
        "\n",
        "Na análise de longevidade, precisamos descobrir quais registradores do código intermediário precisam estar \"vivos\", isto é, não podendo ser sobrescritos, para que o código possa ser gerado sem conflitos de registradores.\n",
        "\n",
        "Para fazer uma análise de longevidade, para cada instrução, determinamos o conjunto de registradores vivos. Vamos considerar o código intermediário gerado para a instrução Pascal 2*x-60/y. Na coluna da esquerda, temos a instrução em código intermediário e, na direita, o conjunto de longevidade associado (posições na pilha de execução):\n",
        "\n",
        "<table border=1>\n",
        "<tr> <th> Código Intermediário<th> Conjunto de Longevidade\n",
        "<tr> <td> lit 0 2 <td> 0\n",
        "<tr> <td> lod 0 x  <td> 0 1\n",
        "<tr> <td> opr 0 4 <td> 0\n",
        "<tr> <td> lit 0 60 <td> 0 1\n",
        "<tr> <td> lod 0 y <td> 0 1 2\n",
        "<tr> <td> opr 0 5 <td> 0 1\n",
        "<tr> <td> opr 0 3 <td> 0\n",
        "</table> \n"
      ]
    },
    {
      "cell_type": "markdown",
      "metadata": {
        "id": "cVnS1-NfbcWa"
      },
      "source": [
        "**EXERCÍCIO**\n",
        "\n",
        "Calcular os conjuntos de longevidade para o código intermediário em P-Code associado à regra **\\< expression \\>** :\n"
      ]
    },
    {
      "cell_type": "markdown",
      "metadata": {
        "id": "V2DJEWc_b2aH"
      },
      "source": [
        "\\<prog\\> ::= \\<var-decls\\> \\<atrib\\>\n",
        "\n",
        "\\<var-decls\\> ::= \\<var-decl\\> \n",
        "\n",
        "       | \\<var-decl\\> \\<var-decls\\>\n",
        "\n",
        "\\<var-decl\\> ::= \\<type\\> ID ;\n",
        "\n",
        "\\<type\\> ::= int | string \n",
        "\n",
        "\\<atrib\\> ::= ID = \\<expression\\>\n",
        "\n",
        "\\<expression\\> ::= ID\n",
        "\n",
        "      | NUMBER\n",
        "\n",
        "      | \\<expression\\> \"+\" \\<expression\\>\n",
        " \n",
        "      | \\<expression\\> \"-\" \\<expression\\>\n",
        " \n",
        "      | \\<expression\\> \"*\" \\<expression\\>\n",
        " \n",
        "      | \\<expression\\> \"/\" \\<expression\\>\n",
        " \n",
        "      | \"(\" <expression> \")\""
      ]
    },
    {
      "cell_type": "markdown",
      "metadata": {
        "id": "7OXTzrwi7o0U"
      },
      "source": [
        "* Implementação do analisador léxico:\n",
        "\n",
        "\n",
        "\n"
      ]
    },
    {
      "cell_type": "code",
      "metadata": {
        "id": "PnT-UX-_6xUo"
      },
      "source": [
        "from rply import LexerGenerator\n",
        "\n",
        "lg = LexerGenerator()\n",
        "\n",
        "lg.add('NUMBER', r'\\d+')\n",
        "lg.add('PLUS', r'\\+')\n",
        "lg.add('MINUS', r'-')\n",
        "lg.add('MUL', r'\\*')\n",
        "lg.add('DIV', r'/')\n",
        "lg.add('OPEN_PARENS', r'\\(')\n",
        "lg.add('CLOSE_PARENS', r'\\)')\n",
        "\n",
        "lg.add('INT', r'int')\n",
        "lg.add('STRING', r'string')\n",
        "lg.add('ID', r'[a-zA-z][a-zA-z0-9]*')\n",
        "lg.add('EQUALS', r'=')\n",
        "lg.add('SEMICOL', r';')\n",
        "\n",
        "lg.ignore('\\s+')\n",
        "\n",
        "lexer = lg.build()"
      ],
      "execution_count": 2,
      "outputs": []
    },
    {
      "cell_type": "markdown",
      "metadata": {
        "id": "TSVSY10PLdX0"
      },
      "source": [
        "* Classes dos nós da árvore sintática, já com o método accept para receber os visitors:"
      ]
    },
    {
      "cell_type": "code",
      "metadata": {
        "id": "7EIkOycX64Ry"
      },
      "source": [
        "from rply.token import BaseBox\n",
        "\n",
        "class Prog(BaseBox):\n",
        "    def __init__(self, decls,atrib):\n",
        "        self.decls = decls\n",
        "        self.atrib = atrib\n",
        "\n",
        "    def accept(self, visitor):\n",
        "        visitor.visit_prog(self)\n",
        "\n",
        "class VarDecls(BaseBox):\n",
        "    def __init__(self, decl,decls):\n",
        "        self.decl = decl\n",
        "        self.decls = decls\n",
        "\n",
        "    def accept(self, visitor):\n",
        "        visitor.visit_vardecls(self)\n",
        "\n",
        "class VarDecl(BaseBox):\n",
        "    def __init__(self, id,tp):\n",
        "        self.id = id\n",
        "        self.tp = tp\n",
        "        \n",
        "\n",
        "    def accept(self, visitor):\n",
        "        visitor.visit_vardecl(self)\n",
        "\n",
        "class Atrib(BaseBox):\n",
        "    def __init__(self, id,expr):\n",
        "        self.id = id\n",
        "        self.expr = expr\n",
        "\n",
        "    def accept(self, visitor):\n",
        "        visitor.visit_atrib(self)\n",
        "\n",
        "class Expr(BaseBox):\n",
        "    def accept(self, visitor):\n",
        "        method_name = 'visit_{}'.format(self.__class__.__name__.lower())\n",
        "        visit = getattr(visitor, method_name)\n",
        "        visit(self)\n",
        "\n",
        "class Id(Expr):\n",
        "    def __init__(self, value):\n",
        "        self.value = value\n",
        "\n",
        "class Number(Expr):\n",
        "    def __init__(self, value):\n",
        "        self.value = value\n",
        "\n",
        "\n",
        "class BinaryOp(Expr):\n",
        "    def __init__(self, left, right):\n",
        "        self.left = left\n",
        "        self.right = right\n",
        "\n",
        "class Add(BinaryOp):\n",
        "  pass\n",
        "    \n",
        "\n",
        "class Sub(BinaryOp):\n",
        "  pass\n",
        "   \n",
        "\n",
        "class Mul(BinaryOp):\n",
        "  pass\n",
        "    \n",
        "\n",
        "class Div(BinaryOp):\n",
        "  pass\n",
        "    "
      ],
      "execution_count": 3,
      "outputs": []
    },
    {
      "cell_type": "markdown",
      "metadata": {
        "id": "C7kMPyOivGfx"
      },
      "source": [
        "* Implementação do analisador sintático:"
      ]
    },
    {
      "cell_type": "code",
      "metadata": {
        "id": "TAoYMBUSd9R4"
      },
      "source": [
        "from rply import ParserGenerator\n",
        "\n",
        "pg = ParserGenerator(\n",
        "    # A list of all token names, accepted by the lexer.\n",
        "    ['NUMBER', 'OPEN_PARENS', 'CLOSE_PARENS',\n",
        "     'PLUS', 'MINUS', 'MUL', 'DIV', 'INT', 'STRING', 'ID','SEMICOL',\n",
        "     'EQUALS'\n",
        "    ],\n",
        "    # A list of precedence rules with ascending precedence, to\n",
        "    # disambiguate ambiguous production rules.\n",
        "    precedence=[\n",
        "        ('left', ['PLUS', 'MINUS']),\n",
        "        ('left', ['MUL', 'DIV'])    \n",
        "    ]\n",
        ")\n",
        "\n",
        "@pg.production('prog : vardecls atrib')\n",
        "def prog(p):\n",
        "    return Prog(p[0],p[1])\n",
        "\n",
        "@pg.production('vardecls : vardecl')\n",
        "def expression_vardeclsOne(p):\n",
        "    return VarDecls(p[0],None) \n",
        "\n",
        "@pg.production('vardecls : vardecl vardecls')\n",
        "def vardecls(p):\n",
        "    return VarDecls(p[0],p[1])\n",
        "\n",
        "@pg.production('vardecl : STRING ID SEMICOL')\n",
        "def expression_vardeclstring(p):\n",
        "    return VarDecl(p[1].getstr(), p[0].getstr())\n",
        "\n",
        "@pg.production('vardecl : INT ID SEMICOL')\n",
        "def expression_vardeclint(p):\n",
        "    return VarDecl(p[1].getstr(), p[0].getstr())\n",
        "\n",
        "@pg.production('atrib : ID EQUALS expression')\n",
        "def atrib(p):\n",
        "    return Atrib(p[0].getstr(),p[2])\n",
        "\n",
        "\n",
        "@pg.production('expression : ID')\n",
        "def expression_id(p):\n",
        "    return Id(p[0].getstr())\n",
        "\n",
        "@pg.production('expression : NUMBER')\n",
        "def expression_number(p):\n",
        "    return Number(int(p[0].getstr()))\n",
        "\n",
        "@pg.production('expression : OPEN_PARENS expression CLOSE_PARENS')\n",
        "def expression_parens(p):\n",
        "    return p[1]\n",
        "\n",
        "@pg.production('expression : expression PLUS expression')\n",
        "@pg.production('expression : expression MINUS expression')\n",
        "@pg.production('expression : expression MUL expression')\n",
        "@pg.production('expression : expression DIV expression')\n",
        "def expression_binop(p):\n",
        "    left = p[0]\n",
        "    right = p[2]\n",
        "    if p[1].gettokentype() == 'PLUS':\n",
        "        return Add(left, right)\n",
        "    elif p[1].gettokentype() == 'MINUS':\n",
        "        return Sub(left, right)\n",
        "    elif p[1].gettokentype() == 'MUL':\n",
        "        return Mul(left, right)\n",
        "    elif p[1].gettokentype() == 'DIV':\n",
        "        return Div(left, right)\n",
        "    else:\n",
        "        raise AssertionError('Oops, this should not be possible!')\n",
        "\n",
        "parser = pg.build()"
      ],
      "execution_count": 4,
      "outputs": []
    },
    {
      "cell_type": "markdown",
      "metadata": {
        "id": "XWyEiA-nvJF4"
      },
      "source": [
        "* Visitor para montar a tabela de símbolos:"
      ]
    },
    {
      "cell_type": "code",
      "metadata": {
        "id": "s2P8znQxdM0v"
      },
      "source": [
        "ST={}\n",
        "\n",
        "class Visitor(object):\n",
        "  pass\n",
        "\n",
        "class SymbolTable(Visitor):\n",
        "    def visit_prog(self, prog):\n",
        "        prog.decls.accept(self)\n",
        "        \n",
        "    def visit_vardecls(self, d):\n",
        "        d.decl.accept(self)\n",
        "        if d.decls!=None:\n",
        "          d.decls.accept(self)\n",
        "\n",
        "    def visit_vardecl(self, d):\n",
        "        ST[d.id]=d.tp\n",
        "        "
      ],
      "execution_count": 5,
      "outputs": []
    },
    {
      "cell_type": "markdown",
      "metadata": {
        "id": "Itq8qe8-vqpW"
      },
      "source": [
        "* Visitor para decoração da árvore: "
      ]
    },
    {
      "cell_type": "code",
      "metadata": {
        "id": "ijGTf-c4vzh8"
      },
      "source": [
        "class Decorator(Visitor):\n",
        "\n",
        "    def visit_prog(self, i):\n",
        "        i.atrib.accept(self)\n",
        "\n",
        "    def visit_atrib(self, i):\n",
        "        if i.id in ST:\n",
        "          i.id_decor_type=ST[i.id]\n",
        "        else:\n",
        "          raise AssertionError('id not declared')\n",
        "        i.expr.accept(self)\n",
        "        i.expr_decor_type=i.expr.decor_type\n",
        "\n",
        "    def visit_id(self, i):\n",
        "        if i.value in ST:\n",
        "          i.decor_type=ST[i.value]\n",
        "        else:\n",
        "          raise AssertionError('id not declared')\n",
        "\n",
        "\n",
        "    def visit_number(self, i):\n",
        "        i.decor_type=\"int\"\n",
        "        \n",
        "\n",
        "    def visit_add(self, a):\n",
        "        a.left.accept(self)\n",
        "        a.right.accept(self)\n",
        "        if a.left.decor_type==\"int\" and a.right.decor_type==\"int\":\n",
        "          a.decor_type=\"int\"\n",
        "          \n",
        "\n",
        "    def visit_sub(self, a):\n",
        "        a.left.accept(self)\n",
        "        a.right.accept(self)\n",
        "        if a.left.decor_type==\"int\" and a.right.decor_type==\"int\":\n",
        "          a.decor_type=\"int\"\n",
        "\n",
        "    def visit_mul(self, a):\n",
        "        a.left.accept(self)\n",
        "        a.right.accept(self)\n",
        "        if a.left.decor_type==\"int\" and a.right.decor_type==\"int\":\n",
        "          a.decor_type=\"int\"\n",
        "\n",
        "    def visit_div(self, a):\n",
        "        a.left.accept(self)\n",
        "        a.right.accept(self)\n",
        "        if a.left.decor_type==\"int\" and a.right.decor_type==\"int\":\n",
        "          a.decor_type=\"int\""
      ],
      "execution_count": 6,
      "outputs": []
    },
    {
      "cell_type": "markdown",
      "metadata": {
        "id": "YtxVdoQsv5I3"
      },
      "source": [
        "* Visitor para verificação de tipos:"
      ]
    },
    {
      "cell_type": "code",
      "metadata": {
        "id": "mybtKcI5wARU"
      },
      "source": [
        "class TypeVerifier(Visitor):\n",
        "\n",
        "    def visit_prog(self, i):\n",
        "        i.atrib.accept(self)\n",
        "\n",
        "    def visit_atrib(self, i):\n",
        "        if i.id_decor_type!=i.expr_decor_type:\n",
        "          raise AssertionError('type error')\n",
        "\n",
        "    def visit_add(self, a):\n",
        "        if a.left.decor_type != a.right.decor_type:\n",
        "          raise AssertionError('type error')\n",
        "          \n",
        "\n",
        "    def visit_sub(self, a):\n",
        "        if a.left.decor_type != a.right.decor_type:\n",
        "          raise AssertionError('type error')\n",
        "\n",
        "    def visit_mul(self, a):\n",
        "        if a.left.decor_type != a.right.decor_type:\n",
        "          raise AssertionError('type error')\n",
        "\n",
        "    def visit_div(self, a):\n",
        "        if a.left.decor_type != a.right.decor_type:\n",
        "          raise AssertionError('type error')"
      ],
      "execution_count": 7,
      "outputs": []
    },
    {
      "cell_type": "code",
      "metadata": {
        "id": "i54AdkltZdxm"
      },
      "source": [
        "class IntermediateCode(Visitor):\n",
        "\n",
        "  \n",
        "  def __init__(self):\n",
        "    self.ic=[] #lista com código intermediário\n",
        "\n",
        "  def visit_prog(self, i):\n",
        "    i.atrib.accept(self)\n",
        "    \n",
        "  def visit_atrib(self, i):\n",
        "    i.expr.accept(self)\n",
        "        \n",
        "\n",
        "  def visit_id(self, i):\n",
        "    self.ic.append(\"lod 0 \"+i.value)\n",
        "\n",
        "\n",
        "  def visit_number(self, i):\n",
        "    self.ic.append(\"lit 0 \"+str(i.value))\n",
        "        \n",
        "\n",
        "  def visit_add(self, a):\n",
        "    a.left.accept(self)\n",
        "    a.right.accept(self)\n",
        "    self.ic.append(\"opr 0 2\")\n",
        "          \n",
        "\n",
        "  def visit_sub(self, a):\n",
        "    a.left.accept(self)\n",
        "    a.right.accept(self)\n",
        "    self.ic.append(\"opr 0 3\")\n",
        "\n",
        "  def visit_mul(self, a):\n",
        "    a.left.accept(self)\n",
        "    a.right.accept(self)\n",
        "    self.ic.append(\"opr 0 4\")\n",
        "\n",
        "  def visit_div(self, a):\n",
        "    a.left.accept(self)\n",
        "    a.right.accept(self)\n",
        "    self.ic.append(\"opr 0 5\")"
      ],
      "execution_count": 8,
      "outputs": []
    },
    {
      "cell_type": "code",
      "metadata": {
        "id": "NGNy8WfkZ0BS",
        "colab": {
          "base_uri": "https://localhost:8080/"
        },
        "outputId": "248102ab-9b28-4958-89c5-9cd6f5dbcf66"
      },
      "source": [
        "arvore=parser.parse(lexer.lex('int x;int y;int z;z=2*x-60/y'))\n",
        "arvore.accept(SymbolTable())\n",
        "arvore.accept(Decorator())\n",
        "arvore.accept(TypeVerifier())\n",
        "icvisitor=IntermediateCode()\n",
        "arvore.accept(icvisitor)\n",
        "ic=icvisitor.ic   #código intermediário gerado\n",
        "print(ic)"
      ],
      "execution_count": 9,
      "outputs": [
        {
          "output_type": "stream",
          "text": [
            "['lit 0 2', 'lod 0 x', 'opr 0 4', 'lit 0 60', 'lod 0 y', 'opr 0 5', 'opr 0 3']\n"
          ],
          "name": "stdout"
        }
      ]
    },
    {
      "cell_type": "code",
      "metadata": {
        "colab": {
          "base_uri": "https://localhost:8080/"
        },
        "id": "a07Js2cseEw_",
        "outputId": "e5834223-9577-4089-a06c-9a687b6dd89a"
      },
      "source": [
        "#implemente sua solução aqui. Sua saída deve ser algo do tipo:\n",
        "#[('lit 0 2' ,{0}    ),\n",
        "# ('lod 0 x' ,{0,1}  ), \n",
        "# ('opr 0 4' ,{0}    ), \n",
        "# ('lit 0 60',{0,1}  ), \n",
        "# ('lod 0 y' ,{0,1,2}), \n",
        "# ('opr 0 5' ,{0,1}  ), \n",
        "# ('opr 0 3' ,{0}    )]\n",
        "\n",
        "def liveness_analysis(ic):\n",
        "  ic_la=[]\n",
        "  \n",
        "    \n",
        "  return ic_la\n",
        "\n",
        "print(liveness_analysis(ic))"
      ],
      "execution_count": null,
      "outputs": [
        {
          "output_type": "stream",
          "text": [
            "[]\n"
          ],
          "name": "stdout"
        }
      ]
    },
    {
      "cell_type": "code",
      "metadata": {
        "colab": {
          "base_uri": "https://localhost:8080/"
        },
        "id": "sM0UvSBbgkdu",
        "outputId": "cfafa023-2179-4b19-f02c-fbcb1023fc20"
      },
      "source": [
        "#implemente sua solução aqui. Sua saída deve ser algo do tipo:\n",
        "#[('lit 0 2' ,{0}    ),\n",
        "# ('lod 0 x' ,{0,1}  ), \n",
        "# ('opr 0 4' ,{0}    ), \n",
        "# ('lit 0 60',{0,1}  ), \n",
        "# ('lod 0 y' ,{0,1,2}), \n",
        "# ('opr 0 5' ,{0,1}  ), \n",
        "# ('opr 0 3' ,{0}    )]\n",
        "\n",
        "def liveness_analysis(ic):\n",
        "  ic_la=[]\n",
        "  la=set({})\n",
        "  t=0\n",
        "  for i in ic:\n",
        "    if i.startswith(\"lit\") or i.startswith(\"lod\"):\n",
        "      la=la.union(set({t}))\n",
        "      t=t+1\n",
        "    elif i.startswith(\"opr\"):\n",
        "          la.remove(t-1)\n",
        "          t=t-1\n",
        "    ic_la.append((i,la.copy()))\n",
        "  return ic_la\n",
        "\n",
        "ic_la=liveness_analysis(ic)\n",
        "for p in ic_la:\n",
        "  print(p,\"\\n\")\n"
      ],
      "execution_count": 10,
      "outputs": [
        {
          "output_type": "stream",
          "text": [
            "('lit 0 2', {0}) \n",
            "\n",
            "('lod 0 x', {0, 1}) \n",
            "\n",
            "('opr 0 4', {0}) \n",
            "\n",
            "('lit 0 60', {0, 1}) \n",
            "\n",
            "('lod 0 y', {0, 1, 2}) \n",
            "\n",
            "('opr 0 5', {0, 1}) \n",
            "\n",
            "('opr 0 3', {0}) \n",
            "\n"
          ],
          "name": "stdout"
        }
      ]
    },
    {
      "cell_type": "markdown",
      "metadata": {
        "id": "S70ex6ndomSH"
      },
      "source": [
        "**ALOCAÇÃO DE REGISTRADORES**\n",
        "\n",
        "Para realizar a alocação de registradores, vamos utilizar os dados da análise de longevidade. Para cada conjunto de longevidade, vamos criar vértices e arestas para formar um **grafo de dependências**.\n",
        "\n",
        "Seja S um conjunto de longevidade. Para cada i dentro do conjunto, criamos um vértice com o rótulo de i. Para cada par i e j dentro de S, criamos uma aresta e já percebemos que i e j não podem estar dentro do mesmo registrador.\n",
        "\n",
        "\n",
        "<table border=1>\n",
        "<tr> <th> Código Intermediário<th> Conjunto de Longevidade <th> Aresta (arestas)\n",
        "<tr> <td> lit 0 2 <td> 0 <td>\n",
        "<tr> <td> lod 0 x  <td> 0 1 <td> 0-1\n",
        "<tr> <td> opr 0 4 <td> 0 <td>\n",
        "<tr> <td> lit 0 60 <td> 0 1 <td> 0-1\n",
        "<tr> <td> lod 0 y <td> 0 1 2 <td> 0-1, 0-2 e 1-2\n",
        "<tr> <td> opr 0 5 <td> 0 1 <td> 0-1\n",
        "<tr> <td> opr 0 3 <td> 0\n",
        "</table> \n",
        "\n",
        "Vamos, agora, percorrer os conjuntos de longevidade para construir nosso grafo de dependências:\n",
        "\n",
        "\n"
      ]
    },
    {
      "cell_type": "code",
      "metadata": {
        "id": "ShSUPy7Xs4Zd",
        "colab": {
          "base_uri": "https://localhost:8080/",
          "height": 248
        },
        "outputId": "1a77694e-44c0-451d-be77-2a4a68a6358d"
      },
      "source": [
        "import networkx as nx\n",
        "import matplotlib.pyplot as plt\n",
        "import itertools\n",
        "   \n",
        "  \n",
        "class GraphVisualization:\n",
        "   \n",
        "    def __init__(self):\n",
        "          \n",
        "        # visual is a list which stores all \n",
        "        # the set of edges that constitutes a\n",
        "        # graph\n",
        "        self.visual = []\n",
        "          \n",
        "    # addEdge function inputs the vertices of an\n",
        "    # edge and appends it to the visual list\n",
        "    def addEdge(self, a, b):\n",
        "        temp = [a, b]\n",
        "        self.visual.append(temp)\n",
        "          \n",
        "    # In visualize function G is an object of\n",
        "    # class Graph given by networkx G.add_edges_from(visual)\n",
        "    # creates a graph with a given list\n",
        "    # nx.draw_networkx(G) - plots the graph\n",
        "    # plt.show() - displays the graph\n",
        "    def visualize(self):\n",
        "        G = nx.Graph()\n",
        "        G.add_edges_from(self.visual)\n",
        "        nx.draw_networkx(G)\n",
        "        plt.show()\n",
        "  \n",
        "G = GraphVisualization()\n",
        "\n",
        "for (instr,live) in ic_la:\n",
        "  edges = itertools.combinations(live, 2)\n",
        "  for (a,b) in edges:\n",
        "    G.addEdge(a,b)\n",
        "G.visualize()"
      ],
      "execution_count": null,
      "outputs": [
        {
          "output_type": "display_data",
          "data": {
            "image/png": "[encoded data removed]",
            "text/plain": [
              "<Figure size 432x288 with 1 Axes>"
            ]
          },
          "metadata": {
            "tags": []
          }
        }
      ]
    },
    {
      "cell_type": "markdown",
      "metadata": {
        "id": "4tS-S7g-wBKk"
      },
      "source": [
        "Observe que este grafo nos diz que que as posições 0, 1 e 2 não podem estar no mesmo local, ou seja, vamos precisar de 3 locais. Observe, também, que são necessárias (no mínimo) 3 cores para colorir os vértices deste grafo.\n",
        "\n",
        "Assim, recaímos num problema de **coloração de grafos**. Para saber o número de registradores, calculamos a colocação mínima do grafo de dependências. No caso do grafo acima, a coloração mínima tem 3 cores.\n",
        "\n",
        "Para o processador Intel 8086, poderíamos fazer as seguintes alocações: 0--> registrador AX; 1 --> registrador BX e 2 --> registrador CX.\n",
        "\n",
        "Com esta alocação, o código final ficaria como:\n",
        "\n",
        "<table border=1>\n",
        "<tr> <th> Código Intermediário<th> Conjunto de Longevidade <th> Aresta (arestas) <th> Código Assembly 8086\n",
        "<tr> <td> lit 0 2 <td> 0 <td> <td> MOV AX, 2\n",
        "<tr> <td> lod 0 x  <td> 0 1 <td> 0-1 <td> MOV BX, x\n",
        "<tr> <td> opr 0 4 <td> 0 <td> <td> MUL AX,BX\n",
        "<tr> <td> lit 0 60 <td> 0 1 <td> 0-1 <td> MOV BX,60\n",
        "<tr> <td> lod 0 y <td> 0 1 2 <td> 0-1 0-2 1-2<td> MOV CX, y\n",
        "<tr> <td> opr 0 5 <td> 0 1 <td>0-1 <td> DIV BX,CX\n",
        "<tr> <td> opr 0 3 <td> 0 <td> <td> SUB AX,BX\n",
        "</table> \n",
        "\n"
      ]
    },
    {
      "cell_type": "markdown",
      "metadata": {
        "id": "iWCMhttcAJy2"
      },
      "source": [
        "**ATIVIDADE EAD**\n",
        "\n",
        "Dada a estrutura de grafos G acima, implemente um método para calcular o número mínimo de cores para colorir os vértices de G.\n",
        "\n"
      ]
    },
    {
      "cell_type": "code",
      "metadata": {
        "id": "UaRzZJpKaPUx"
      },
      "source": [
        "#Implemente sua solução aqui"
      ],
      "execution_count": null,
      "outputs": []
    }
  ]
}