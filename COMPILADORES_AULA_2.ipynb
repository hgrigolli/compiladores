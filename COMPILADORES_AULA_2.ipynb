{
  "nbformat": 4,
  "nbformat_minor": 0,
  "metadata": {
    "colab": {
      "name": "COMPILADORES-AULA 2.ipynb",
      "provenance": [],
      "collapsed_sections": [],
      "include_colab_link": true
    },
    "kernelspec": {
      "name": "python3",
      "display_name": "Python 3"
    }
  },
  "cells": [
    {
      "cell_type": "markdown",
      "metadata": {
        "id": "view-in-github",
        "colab_type": "text"
      },
      "source": [
        "<a href=\"https://colab.research.google.com/github/hgrigolli/compiladores/blob/main/COMPILADORES_AULA_2.ipynb\" target=\"_parent\"><img src=\"https://colab.research.google.com/assets/colab-badge.svg\" alt=\"Open In Colab\"/></a>"
      ]
    },
    {
      "cell_type": "markdown",
      "metadata": {
        "id": "EwxHf3E81Qyz"
      },
      "source": [
        "**COMPILADORES - AULA 2**\n",
        "\n",
        "***Prof. Luciano Silva***\n",
        "\n",
        "**Objetivos da aula:**\n",
        "*   revisar implementação de analisadores léxicos em rply\n",
        "*   analisar a grmática da linguagem TINY-C\n",
        "*   implementar um analisador léxico para TINY-C\n",
        "*   aumentar a gramática da TINY-C e imlementar um analisador léxico para isto\n",
        "\n",
        "\n",
        "\n"
      ]
    },
    {
      "cell_type": "markdown",
      "metadata": {
        "id": "QGMxqj9y7vWS"
      },
      "source": [
        "**REVISÃO - AULA ANTERIOR**\n",
        "\n",
        "Queremos constuir um analisador léxico para os símbolos terminais da gramática abaixo:\n",
        "\n",
        "\\<expression\\> ::= NUMBER\n",
        "\n",
        "               | \\<expression\\> \"+\" \\<expression\\>\n",
        "\n",
        "               | \\<expression\\> \"-\" \\<expression\\>\n",
        "\n",
        "               | \\<expression\\> \"*\" \\<expression\\>\n",
        "\n",
        "               | \\<expression\\> \"/\" \\<expression\\>\n",
        "\n",
        "               | \"(\" <expression> \")\""
      ]
    },
    {
      "cell_type": "markdown",
      "metadata": {
        "id": "vdlT1XbX8PFb"
      },
      "source": [
        "O primeiro passo é instalar o rply, um módulo para construir analisadores.\n",
        "\n"
      ]
    },
    {
      "cell_type": "code",
      "metadata": {
        "id": "CbWUx55j1tLM",
        "colab": {
          "base_uri": "https://localhost:8080/"
        },
        "outputId": "7a99dfc7-4204-4fa2-fdcc-cbd4347ff60f"
      },
      "source": [
        "!pip install rply"
      ],
      "execution_count": null,
      "outputs": [
        {
          "output_type": "stream",
          "text": [
            "Collecting rply\n",
            "  Downloading https://files.pythonhosted.org/packages/c0/7c/f66be9e75485ae6901ae77d8bdbc3c0e99ca748ab927b3e18205759bde09/rply-0.7.8-py2.py3-none-any.whl\n",
            "Requirement already satisfied: appdirs in /usr/local/lib/python3.7/dist-packages (from rply) (1.4.4)\n",
            "Installing collected packages: rply\n",
            "Successfully installed rply-0.7.8\n"
          ],
          "name": "stdout"
        }
      ]
    },
    {
      "cell_type": "markdown",
      "metadata": {
        "id": "qQEvnI9-9S-n"
      },
      "source": [
        "Toda a documentação do rply pode ser encontrada abaixo:\n",
        "\n",
        "<a href=\"https://rply.readthedocs.io/en/latest/\">Documentação RPLY </a>"
      ]
    },
    {
      "cell_type": "markdown",
      "metadata": {
        "id": "Mdp5ClkZ98Tw"
      },
      "source": [
        "O segundo passo é construir o analisador léxico:"
      ]
    },
    {
      "cell_type": "code",
      "metadata": {
        "id": "Rezf3OAt1P7_"
      },
      "source": [
        "from rply import LexerGenerator\n",
        "\n",
        "lg = LexerGenerator()\n",
        "\n",
        "lg.add('NUMBER', r'\\d+')\n",
        "lg.add('PLUS', r'\\+')\n",
        "lg.add('MINUS', r'-')\n",
        "lg.add('MUL', r'\\*')\n",
        "lg.add('DIV', r'/')\n",
        "lg.add('OPEN_PARENS', r'\\(')\n",
        "lg.add('CLOSE_PARENS', r'\\)')\n",
        "\n",
        "lg.ignore('\\s+')\n",
        "\n",
        "lexer = lg.build()"
      ],
      "execution_count": null,
      "outputs": []
    },
    {
      "cell_type": "markdown",
      "metadata": {
        "id": "9gxpqmaf9khR"
      },
      "source": [
        "Observe que, associado a cada classe léxica, temos uma expressão regular associada. Esta expressão regular usa a facilidade RegEx do Python, cuja documentação pode ser enontrada abaixo:\n",
        "\n",
        "<a href=\"https://blog.geekhunter.com.br/python-regex/\"> Expressões Regulares em Python </a>\n",
        "\n",
        "Para usar somente o analisador léxico, podemos usar o código abaixo:"
      ]
    },
    {
      "cell_type": "code",
      "metadata": {
        "id": "8CrRKNZi9vMr",
        "colab": {
          "base_uri": "https://localhost:8080/"
        },
        "outputId": "14b34b45-2378-443f-8516-90b6c19564c8"
      },
      "source": [
        "for token in lexer.lex('1+1-1'):\n",
        "  print(token)"
      ],
      "execution_count": null,
      "outputs": [
        {
          "output_type": "stream",
          "text": [
            "Token('NUMBER', '1')\n",
            "Token('PLUS', '+')\n",
            "Token('NUMBER', '1')\n",
            "Token('MINUS', '-')\n",
            "Token('NUMBER', '1')\n"
          ],
          "name": "stdout"
        }
      ]
    },
    {
      "cell_type": "markdown",
      "metadata": {
        "id": "hbZuGJ8r2dSg"
      },
      "source": [
        "**LINGUAGEM TINY-C**\n",
        "\n",
        "Abaixo temos a gramática (livre de contexto) da linguagem TINY-C, um subconjunto bastante expressivo da linguagem C:\n",
        "\n",
        "<i>\n",
        "Smallc_program ::= type_specifier id ‘(‘ param_decl_list ‘)’ compound_stmt\n",
        "\n",
        "Type_specifier ::= int | char\n",
        "\n",
        "Param_decl_list ::= parameter_decl (‘,’ parameter_decl )*\n",
        "\n",
        "Param_decl ::= type_specifier id\n",
        "\n",
        "Compound_stmt ::= ‘{‘ (var_decl* stmt*)? ‘}’\n",
        "\n",
        "Var_decl ::= type_specifier var_decl_list ‘;’ \n",
        "\n",
        "Var_decl_list ::= variable_id ( ‘,’ variable_id)*\n",
        "\n",
        "Variable_id ::= id ( ‘=’ expr )?\n",
        "\n",
        "Stmt ::= compound_stmt | cond_stmt | while_stmt | break ‘;’ | continue ‘;’ | return expr ‘;’ | readint ‘(‘ id ‘)’ ‘;’ |\n",
        " writeint ‘(‘ expr ‘)’ ‘;’\n",
        "\n",
        "Cond_stmt ::= if ‘(‘ expr ‘)’ stmt (else stmt)?\n",
        "\n",
        "While_stmt ::= while ‘(‘ expr ‘)’ stmt\n",
        "\n",
        "Expr ::= id ‘=’ expr | condition\n",
        "\n",
        "Condition ::= disjunction | disjunction ‘?’ expr ‘:’ condition\n",
        "\n",
        "Disjunction ::= conjunction | disjunction ‘||’ conjunction\n",
        "\n",
        "Conjunction ::= comparison | conjunction ‘&&’ comparison\n",
        "\n",
        "Comparison ::= relation | relation ‘==’ relation\n",
        "\n",
        "Relation ::= sum | sum (‘<’ | ‘>’) sum\n",
        "\n",
        "Sum ::= sum ‘+’ term | sum ‘-’ term | term\n",
        "\n",
        "Term ::= term ‘*’ factor | term ‘/’ factor | term ‘%’ factor | factor\n",
        "\n",
        "Factor ::= ‘!’ factor | ‘-’ factor | primary\n",
        "\n",
        "Primary ::= num | charconst | id | ‘(‘ expr ‘)’\n",
        "</i> "
      ]
    },
    {
      "cell_type": "markdown",
      "metadata": {
        "id": "LPM4_Jpf3SGP"
      },
      "source": [
        "**EXERCÍCIO PROPOSTO**\n",
        "\n",
        "Escreva um programa na linguagem TINY-C:\n"
      ]
    },
    {
      "cell_type": "code",
      "metadata": {
        "id": "SXlZcx-cjCc-"
      },
      "source": [
        ""
      ],
      "execution_count": null,
      "outputs": []
    },
    {
      "cell_type": "markdown",
      "metadata": {
        "id": "6URuPQaL4D8j"
      },
      "source": [
        "**EXERCÍCIO PROPOSTO**\n",
        "\n",
        "Escreva um analisador léxico para a gramática acima."
      ]
    },
    {
      "cell_type": "code",
      "metadata": {
        "id": "vHY05GN54P9t"
      },
      "source": [
        "from rply import LexerGenerator\r\n",
        "\r\n",
        "lg = LexerGenerator()\r\n",
        "\r\n",
        "#Type_specifier ::= int | char\r\n",
        "lg.add('INT', r'int')\r\n",
        "lg.add('INT', r'char')\r\n",
        "\r\n",
        "#Smallc_program ::= type_specifier id ‘(‘ param_decl_list ‘)’ compound_stmt\r\n",
        "lg.add('OPEN_PARENS', r'\\(')\r\n",
        "lg.add('CLOSE_PARENS', r'\\)')\r\n",
        "\r\n",
        "\r\n",
        "#Param_decl_list ::= parameter_decl (‘,’ parameter_decl )*\r\n",
        "lg.add('COMMA', ',')\r\n",
        "\r\n",
        "\r\n",
        "#Param_decl ::= type_specifier id\r\n",
        "\r\n",
        "#Compound_stmt ::= ‘{‘ (var_decl* stmt*)? ‘}’\r\n",
        "lg.add('CRL_BRKT_OPEN', r'\\{')\r\n",
        "lg.add('CRL_BRKT_CLOSE', r'\\}')\r\n",
        "\r\n",
        "#Var_decl ::= type_specifier var_decl_list ‘;’ \r\n",
        "lg.add('SEMI_COLON', '\\;')\r\n",
        "\r\n",
        "#Var_decl_list ::= variable_id ( ‘,’ variable_id)*\r\n",
        "\r\n",
        "#Variable_id ::= id ( ‘=’ expr )?\r\n",
        "lg.add('DEFINE', '={1}')\r\n",
        "\r\n",
        "#Stmt ::= compound_stmt | cond_stmt | while_stmt | break ‘;’ | continue ‘;’ | return expr ‘;’ | readint ‘(‘ id ‘)’ ‘;’ |\r\n",
        " #writeint ‘(‘ expr ‘)’ ‘;’\r\n",
        "\r\n",
        "lg.add('BREAK', r'break')\r\n",
        "lg.add('CONTINUE', r'continue')\r\n",
        "lg.add('RETURN', r'return')\r\n",
        "lg.add('READINT', r'readint')\r\n",
        "lg.add('WRITEINT', r'writeint')\r\n",
        "\r\n",
        "#Cond_stmt ::= if ‘(‘ expr ‘)’ stmt (else stmt)?\r\n",
        "lg.add('IF', r'if')\r\n",
        "lg.add('ELSE', r'else')\r\n",
        "\r\n",
        "#While_stmt ::= while ‘(‘ expr ‘)’ stmt\r\n",
        "lg.add('WHILE', r'while')\r\n",
        "\r\n",
        "#Expr ::= id ‘=’ expr | condition\r\n",
        "\r\n",
        "#Condition ::= disjunction | disjunction ‘?’ expr ‘:’ condition\r\n",
        "lg.add('COLON', '\\:')\r\n",
        "lg.add('QUESTION_MARK', r'\\?')\r\n",
        "\r\n",
        "#Disjunction ::= conjunction | disjunction ‘||’ conjunction\r\n",
        "lg.add('OR', r'\\|\\|')\r\n",
        "\r\n",
        "#Conjunction ::= comparison | conjunction ‘&&’ comparison\r\n",
        "lg.add('AND', R'&&')\r\n",
        "\r\n",
        "#Comparison ::= relation | relation ‘==’ relation\r\n",
        "lg.add('EQUALS', r'={2}')\r\n",
        "\r\n",
        "#Relation ::= sum | sum (‘<’ | ‘>’) sum\r\n",
        "lg.add('LESS_THAN', '\\<')\r\n",
        "lg.add('GREATER_THAN', '\\>')\r\n",
        "\r\n",
        "#Sum ::= sum ‘+’ term | sum ‘-’ term | term\r\n",
        "lg.add('PLUS', r'\\+')\r\n",
        "lg.add('MINUS', r'-')\r\n",
        "\r\n",
        "\r\n",
        "#Term ::= term ‘*’ factor | term ‘/’ factor | term ‘%’ factor | factor\r\n",
        "lg.add('MUL', r'\\*')\r\n",
        "lg.add('DIV', r'/')\r\n",
        "lg.add('MOD', r'\\%')\r\n",
        "\r\n",
        "#Factor ::= ‘!’ factor | ‘-’ factor | primary\r\n",
        "lg.add('NEG', r'\\!')\r\n",
        "\r\n",
        "#Primary ::= num | charconst | id | ‘(‘ expr ‘)’\r\n",
        "lg.add('NUMBER', r'[+-]?\\d+')\r\n",
        "lg.add('CHARCONST', r'\\'[a-zA-Z]\\'')\r\n",
        "\r\n",
        "lg.add('ID', r'[a-zA-Z][a-zA-Z0-9]*')\r\n",
        "\r\n",
        "lg.ignore('\\s+')\r\n",
        "\r\n",
        "lexer = lg.build()"
      ],
      "execution_count": null,
      "outputs": []
    },
    {
      "cell_type": "markdown",
      "metadata": {
        "id": "-QeqnWD94j2E"
      },
      "source": [
        "**EXERCÍCIO PROPOSTO**\n",
        "\n",
        "Aplique seu analisador léxico para quebrar em tokens o seu programa escrito em TINY-C:"
      ]
    },
    {
      "cell_type": "code",
      "metadata": {
        "id": "HmQxwqVA4wgf",
        "colab": {
          "base_uri": "https://localhost:8080/"
        },
        "outputId": "29579181-c3b7-4525-b3e0-df47d8b1261a"
      },
      "source": [
        "for token in lexer.lex('int soma(int a, int b){int s; s=a+b; return s;}'):\r\n",
        "  print(token)"
      ],
      "execution_count": null,
      "outputs": [
        {
          "output_type": "stream",
          "text": [
            "Token('INT', 'int')\n",
            "Token('ID', 'soma')\n",
            "Token('OPEN_PARENS', '(')\n",
            "Token('INT', 'int')\n",
            "Token('ID', 'a')\n",
            "Token('COMMA', ',')\n",
            "Token('INT', 'int')\n",
            "Token('ID', 'b')\n",
            "Token('CLOSE_PARENS', ')')\n",
            "Token('CRL_BRKT_OPEN', '{')\n",
            "Token('INT', 'int')\n",
            "Token('ID', 's')\n",
            "Token('SEMI_COLON', ';')\n",
            "Token('ID', 's')\n",
            "Token('DEFINE', '=')\n",
            "Token('ID', 'a')\n",
            "Token('PLUS', '+')\n",
            "Token('ID', 'b')\n",
            "Token('SEMI_COLON', ';')\n",
            "Token('RETURN', 'return')\n",
            "Token('ID', 's')\n",
            "Token('SEMI_COLON', ';')\n",
            "Token('CRL_BRKT_CLOSE', '}')\n"
          ],
          "name": "stdout"
        }
      ]
    },
    {
      "cell_type": "markdown",
      "metadata": {
        "id": "as3YFA_m-KTm"
      },
      "source": [
        "**ATIVIDADE EAD**\n",
        "\n",
        "\n",
        "1.   Aumentar as regras de sua gramática para incluir mais de uma função por programa\n",
        "2.   Aumentar as regras de sua gramática para incluir definição de vetores no estilo C  (Exemplo: int v[10];)\n",
        "3.   Implementar um analisador léxico para incluir as duas novas regras acima\n",
        "4.   Escrever um programa em TINY-C (com as novas regras acima) e fazer sua análise léxica com  o analisador do item (3).\n",
        "\n",
        "**O que entregar:** notebook contendo os programas em Python\n",
        "\n"
      ]
    }
  ]
}