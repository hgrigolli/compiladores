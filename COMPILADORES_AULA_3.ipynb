{
  "nbformat": 4,
  "nbformat_minor": 0,
  "metadata": {
    "colab": {
      "name": "COMPILADORES-AULA 3.ipynb",
      "provenance": [],
      "collapsed_sections": [],
      "include_colab_link": true
    },
    "kernelspec": {
      "name": "python3",
      "display_name": "Python 3"
    }
  },
  "cells": [
    {
      "cell_type": "markdown",
      "metadata": {
        "id": "view-in-github",
        "colab_type": "text"
      },
      "source": [
        "<a href=\"https://colab.research.google.com/github/hgrigolli/compiladores/blob/main/COMPILADORES_AULA_3.ipynb\" target=\"_parent\"><img src=\"https://colab.research.google.com/assets/colab-badge.svg\" alt=\"Open In Colab\"/></a>"
      ]
    },
    {
      "cell_type": "markdown",
      "metadata": {
        "id": "EwxHf3E81Qyz"
      },
      "source": [
        "**COMPILADORES - AULA 03**\n",
        "\n",
        "**Prof. Luciano Silva**\n",
        "\n",
        "**OBJETIVOS DA AULA:**\n",
        "\n",
        "**ALUNO: HENRIQUE NÓBREGA GRIGOLLI - 06N - 41821661**\n",
        "\n",
        "\n",
        "*   Revisar o processo de análise léxica\n",
        "*   Introduzir o processo de análise sintática\n",
        "*   Implementar analisadores sintáticos usando a ferramenta rply\n",
        "\n"
      ]
    },
    {
      "cell_type": "markdown",
      "metadata": {
        "id": "QGMxqj9y7vWS"
      },
      "source": [
        "**REVISÃO DO PROCESSO DE ANÁLISE LÉXICA**\n",
        "\n",
        "Nas nossas aulas passadas, trabalhamos com a gramática abaixo, que permite reconhecer expressões aritméticas:\n",
        "\n",
        "\\<expression\\> ::= NUMBER\n",
        "\n",
        "               | \\<expression\\> \"+\" \\<expression\\>\n",
        "\n",
        "               | \\<expression\\> \"-\" \\<expression\\>\n",
        "\n",
        "               | \\<expression\\> \"*\" \\<expression\\>\n",
        "\n",
        "               | \\<expression\\> \"/\" \\<expression\\>\n",
        "\n",
        "               | \"(\" <expression> \")\""
      ]
    },
    {
      "cell_type": "markdown",
      "metadata": {
        "id": "vdlT1XbX8PFb"
      },
      "source": [
        "Para usar o módulo rply, primeiro instalamos o pacote no nosso notebook:\n",
        "\n"
      ]
    },
    {
      "cell_type": "code",
      "metadata": {
        "id": "CbWUx55j1tLM",
        "colab": {
          "base_uri": "https://localhost:8080/"
        },
        "outputId": "5110f6c6-0545-484d-f168-09e263b55b1b"
      },
      "source": [
        "!pip install rply"
      ],
      "execution_count": 29,
      "outputs": [
        {
          "output_type": "stream",
          "text": [
            "Requirement already satisfied: rply in /usr/local/lib/python3.7/dist-packages (0.7.8)\n",
            "Requirement already satisfied: appdirs in /usr/local/lib/python3.7/dist-packages (from rply) (1.4.4)\n"
          ],
          "name": "stdout"
        }
      ]
    },
    {
      "cell_type": "markdown",
      "metadata": {
        "id": "Mdp5ClkZ98Tw"
      },
      "source": [
        "O segundo passo foi construir um analisador léxico, que quebrava as nossas expressões em tokens:"
      ]
    },
    {
      "cell_type": "code",
      "metadata": {
        "id": "Rezf3OAt1P7_"
      },
      "source": [
        "from rply import LexerGenerator\n",
        "\n",
        "lg = LexerGenerator()\n",
        "\n",
        "lg.add('NUMBER', r'\\d+')\n",
        "lg.add('PLUS', r'\\+')\n",
        "lg.add('MINUS', r'-')\n",
        "lg.add('MUL', r'\\*')\n",
        "lg.add('DIV', r'/')\n",
        "lg.add('OPEN_PARENS', r'\\(')\n",
        "lg.add('CLOSE_PARENS', r'\\)')\n",
        "\n",
        "lg.ignore('\\s+')\n",
        "\n",
        "lexer = lg.build()"
      ],
      "execution_count": 30,
      "outputs": []
    },
    {
      "cell_type": "markdown",
      "metadata": {
        "id": "g0EtKi3iABw7"
      },
      "source": [
        "Para mostrar somente os tokens reconhecidos de uma expressão, podemos utilizar o código abaixo:"
      ]
    },
    {
      "cell_type": "code",
      "metadata": {
        "id": "lY0_GHM9ARAK",
        "colab": {
          "base_uri": "https://localhost:8080/"
        },
        "outputId": "60a42a5a-ca7c-426b-efc8-194d1bd98d90"
      },
      "source": [
        "for token in lexer.lex('1 1 1 + -'):\n",
        "  print(token)"
      ],
      "execution_count": 31,
      "outputs": [
        {
          "output_type": "stream",
          "text": [
            "Token('NUMBER', '1')\n",
            "Token('NUMBER', '1')\n",
            "Token('NUMBER', '1')\n",
            "Token('PLUS', '+')\n",
            "Token('MINUS', '-')\n"
          ],
          "name": "stdout"
        }
      ]
    },
    {
      "cell_type": "markdown",
      "metadata": {
        "id": "R7eXfPcV-M-R"
      },
      "source": [
        "**PROCESSO DE ANÁLISE SINTÁTICA**\n",
        "\n",
        "A análise sintática é o segundo passo no processo de compilação:\n",
        "\n",
        "<img src=\"https://www.researchgate.net/profile/Nuno-Oliveira-15/publication/266497079/figure/fig1/AS:295651775664128@1447500284302/Common-Compiler-Phases.png\"> <img>\n",
        "\n",
        "Um **analisador sintático** recebe uma sequencia de tokens identificados pelo **analisador léxico** e verifica se estes tokens estão na ordem correta, segundo a **gramática** da linguagem que está sendo compilada.\n",
        "\n",
        "O produto final do processo de análise sintática é uma **árvore n-ária** chamada **árvore de análise sintática**. \n",
        "\n",
        "<img src=\"https://i.stack.imgur.com/woqkC.png\"> <img>\n",
        "\n",
        "Cada nó desta árvore sintática armazena uma parte reconhecida da entrada, de acordo com a gramática fornecida:\n",
        "\n",
        "\\<expression\\> ::= NUMBER\n",
        "\n",
        "               | \\<expression\\> \"+\" \\<expression\\>\n",
        "\n",
        "               | \\<expression\\> \"-\" \\<expression\\>\n",
        "\n",
        "               | \\<expression\\> \"*\" \\<expression\\>\n",
        "\n",
        "               | \\<expression\\> \"/\" \\<expression\\>\n",
        "\n",
        "               | \"(\" <expression> \")\"\n",
        "\n",
        "\n",
        "Normalmente, para cada linha da gramática, criamos uma classe para representar tal linha:\n",
        "\n"
      ]
    },
    {
      "cell_type": "code",
      "metadata": {
        "id": "PbD2HvRH1__m"
      },
      "source": [
        "from rply.token import BaseBox\n",
        "\n",
        "class Number(BaseBox):\n",
        "    def __init__(self, value):\n",
        "        self.value = value\n",
        "\n",
        "    def eval(self):\n",
        "        return self.value\n",
        "\n",
        "class BinaryOp(BaseBox):\n",
        "    def __init__(self, left, right):\n",
        "        self.left = left\n",
        "        self.right = right\n",
        "\n",
        "class Add(BinaryOp):\n",
        "    def eval(self):\n",
        "        return self.left.eval() + self.right.eval()\n",
        "\n",
        "class Sub(BinaryOp):\n",
        "    def eval(self):\n",
        "        return self.left.eval() - self.right.eval()\n",
        "\n",
        "class Mul(BinaryOp):\n",
        "    def eval(self):\n",
        "        return self.left.eval() * self.right.eval()\n",
        "\n",
        "class Div(BinaryOp):\n",
        "    def eval(self):\n",
        "        return self.left.eval() / self.right.eval()"
      ],
      "execution_count": 32,
      "outputs": []
    },
    {
      "cell_type": "markdown",
      "metadata": {
        "id": "E-ZtegGt-Rzp"
      },
      "source": [
        "\n",
        "Uma vez que temos como representar cada linha a nossa gramática, dentro de cada nó, observem que temos um método eval. Este método irá calcular o valor representado pot aquele nó. Posteriormente iremos acrescentar novos métodos para, por exemplo, verificar tipos, gerar código, dentre outros.\n",
        "\n",
        "Finalmente, temos a implementação do analisador sintático: \n",
        "\n"
      ]
    },
    {
      "cell_type": "code",
      "metadata": {
        "id": "AZhvrrKL4Wjs"
      },
      "source": [
        "from rply import ParserGenerator\n",
        "\n",
        "pg = ParserGenerator(\n",
        "    # A list of all token names, accepted by the lexer.\n",
        "    ['NUMBER', 'OPEN_PARENS', 'CLOSE_PARENS',\n",
        "     'PLUS', 'MINUS', 'MUL', 'DIV'\n",
        "    ],\n",
        "    # A list of precedence rules with ascending precedence, to\n",
        "    # disambiguate ambiguous production rules.\n",
        "    precedence=[\n",
        "        ('left', ['PLUS', 'MINUS']),\n",
        "        ('left', ['MUL', 'DIV'])    \n",
        "    ]\n",
        ")\n",
        "\n",
        "@pg.production('expression : NUMBER')\n",
        "def expression_number(p):\n",
        "    # p is a list of the pieces matched by the right hand side of the\n",
        "    # rule\n",
        "    return Number(int(p[0].getstr()))\n",
        "\n",
        "@pg.production('expression : OPEN_PARENS expression CLOSE_PARENS')\n",
        "def expression_parens(p):\n",
        "    return p[1]\n",
        "\n",
        "@pg.production('expression : expression PLUS expression')\n",
        "@pg.production('expression : expression MINUS expression')\n",
        "@pg.production('expression : expression MUL expression')\n",
        "@pg.production('expression : expression DIV expression')\n",
        "def expression_binop(p):\n",
        "    left = p[0]\n",
        "    right = p[2]\n",
        "    if p[1].gettokentype() == 'PLUS':\n",
        "        return Add(left, right)\n",
        "    elif p[1].gettokentype() == 'MINUS':\n",
        "        return Sub(left, right)\n",
        "    elif p[1].gettokentype() == 'MUL':\n",
        "        return Mul(left, right)\n",
        "    elif p[1].gettokentype() == 'DIV':\n",
        "        return Div(left, right)\n",
        "    else:\n",
        "        raise AssertionError('Oops, this should not be possible!')\n",
        "\n",
        "parser = pg.build()\n"
      ],
      "execution_count": 33,
      "outputs": []
    },
    {
      "cell_type": "code",
      "metadata": {
        "id": "NpCdfJhG7vnn",
        "colab": {
          "base_uri": "https://localhost:8080/"
        },
        "outputId": "480a701b-e2dc-4882-836e-e1a2ffe5b84f"
      },
      "source": [
        "arvore=parser.parse(lexer.lex('1 + 1'))\n",
        "print(arvore.right)"
      ],
      "execution_count": 34,
      "outputs": [
        {
          "output_type": "stream",
          "text": [
            "<__main__.Number object at 0x7f125eb537d0>\n"
          ],
          "name": "stdout"
        }
      ]
    },
    {
      "cell_type": "markdown",
      "metadata": {
        "id": "UrRasgZS-b_1"
      },
      "source": [
        "Como resultado, temos a árvore sintática. Percorrendo esta árvore, podemos calcular o valor da expressão usando o método eval()."
      ]
    },
    {
      "cell_type": "code",
      "metadata": {
        "id": "gAJAmar_6vLd",
        "colab": {
          "base_uri": "https://localhost:8080/"
        },
        "outputId": "3cd83974-e435-483b-ecfd-7b096ab3fdaa"
      },
      "source": [
        "parser.parse(lexer.lex('2+3*(35/7-1)')).eval()"
      ],
      "execution_count": 35,
      "outputs": [
        {
          "output_type": "execute_result",
          "data": {
            "text/plain": [
              "14.0"
            ]
          },
          "metadata": {
            "tags": []
          },
          "execution_count": 35
        }
      ]
    },
    {
      "cell_type": "markdown",
      "metadata": {
        "id": "5zwOD5FfJZ-S"
      },
      "source": [
        "**EXERCÍCIO**\n",
        "\n",
        "Modifique a gramática abaixo para permitir atribuições do tipo x=1+2*3:\n",
        "\n",
        "\\<expression\\> ::= NUMBER\n",
        "\n",
        "           | \\<expression\\> \"+\" \\<expression\\>\n",
        " \n",
        "           | \\<expression\\> \"-\" \\<expression\\>\n",
        " \n",
        "           | \\<expression\\> \"*\" \\<expression\\>\n",
        " \n",
        "           | \\<expression\\> \"/\" \\<expression\\>\n",
        " \n",
        "           | \"(\" <expression> \")\""
      ]
    },
    {
      "cell_type": "markdown",
      "metadata": {
        "id": "WDogT1ytJrEt"
      },
      "source": [
        "\\<atrib\\>::= ID \"=\" \\<expression\\>\n",
        "\n",
        "\\<expression\\> ::= NUMBER\n",
        "\n",
        "       | \\<expression\\> \"+\" \\<expression\\>\n",
        " \n",
        "       | \\<expression\\> \"-\" \\<expression\\>\n",
        " \n",
        "       | \\<expression\\> \"*\" \\<expression\\>\n",
        " \n",
        "       | \\<expression\\> \"/\" \\<expression\\>\n",
        " \n",
        "       | \"(\" <expression> \")\""
      ]
    },
    {
      "cell_type": "markdown",
      "metadata": {
        "id": "ACSuZUyEJ2oQ"
      },
      "source": [
        "**EXERCÍCIO**\n",
        "\n",
        "Implemente um analisador sintático para a gramática modificada do exercício anterior:\n"
      ]
    },
    {
      "cell_type": "code",
      "metadata": {
        "id": "AohGQ2yWKDli"
      },
      "source": [
        "#modificação no analisador léxico\n",
        "\n",
        "from rply import LexerGenerator\n",
        "\n",
        "lg = LexerGenerator()\n",
        "\n",
        "lg.add('ID', r'[a-zA-Z][a-zA-Z0-9]*')\n",
        "lg.add('EQUALS', r'=')\n",
        "lg.add('NUMBER', r'\\d+')\n",
        "lg.add('PLUS', r'\\+')\n",
        "lg.add('MINUS', r'-')\n",
        "\n",
        "lg.add('EXP', r'\\*\\*')\n",
        "lg.add('MUL', r'\\*')\n",
        "\n",
        "lg.add('DIV', r'/')\n",
        "lg.add('OPEN_PARENS', r'\\(')\n",
        "lg.add('CLOSE_PARENS', r'\\)')\n",
        "\n",
        "lg.ignore('\\s+')\n",
        "\n",
        "\n",
        "lexer = lg.build()"
      ],
      "execution_count": 62,
      "outputs": []
    },
    {
      "cell_type": "code",
      "metadata": {
        "id": "RLcu5RuHDl6B"
      },
      "source": [
        "#acrescentar nó para atribuição na árvore sintática\n",
        "\n",
        "class Attrib(BaseBox):\n",
        "    def __init__(self, id, expression):\n",
        "        self.id = id\n",
        "        self.expression = expression"
      ],
      "execution_count": 63,
      "outputs": []
    },
    {
      "cell_type": "code",
      "metadata": {
        "id": "vzMqQFFx3Tb4"
      },
      "source": [
        "class Exp(BinaryOp):\r\n",
        "    def eval(self): \r\n",
        "        return self.left.eval() ** self.right.eval()"
      ],
      "execution_count": 64,
      "outputs": []
    },
    {
      "cell_type": "code",
      "metadata": {
        "id": "2MB_wWwWEGcX"
      },
      "source": [
        "#modificar o analisador sintático para reconhecer atribuições\n",
        "\n",
        "from rply import ParserGenerator\n",
        "\n",
        "pg = ParserGenerator(\n",
        "    # A list of all token names, accepted by the lexer.\n",
        "    ['NUMBER', 'OPEN_PARENS', 'CLOSE_PARENS',\n",
        "     'PLUS', 'MINUS', 'MUL', 'DIV','ID','EQUALS', 'EXP'\n",
        "    ],\n",
        "    # A list of precedence rules with ascending precedence, to\n",
        "    # disambiguate ambiguous production rules.\n",
        "    precedence=[\n",
        "        ('left', ['PLUS', 'MINUS']),\n",
        "        ('left', ['MUL', 'DIV']),\n",
        "        ('left', ['EXP'])  \n",
        "    ]\n",
        ")\n",
        "\n",
        "# regra <atrib>::= ID \"=\" <expression>\n",
        "\n",
        "@pg.production('atrib : ID EQUALS expression')\n",
        "def attrib(p):\n",
        "  return Attrib(p[0].getstr(),p[2])\n",
        "\n",
        "@pg.production('expression : NUMBER')\n",
        "def expression_number(p):\n",
        "    # p is a list of the pieces matched by the right hand side of the\n",
        "    # rule\n",
        "    return Number(int(p[0].getstr()))\n",
        "\n",
        "@pg.production('expression : OPEN_PARENS expression CLOSE_PARENS')\n",
        "def expression_parens(p):\n",
        "    return p[1]\n",
        "\n",
        "@pg.production('expression : expression PLUS expression')\n",
        "@pg.production('expression : expression MINUS expression')\n",
        "@pg.production('expression : expression MUL expression')\n",
        "@pg.production('expression : expression DIV expression')\n",
        "@pg.production('expression : expression EXP expression')\n",
        "def expression_binop(p):\n",
        "    left = p[0]\n",
        "    right = p[2]\n",
        "    if p[1].gettokentype() == 'PLUS':\n",
        "        return Add(left, right)\n",
        "    elif p[1].gettokentype() == 'MINUS':\n",
        "        return Sub(left, right)\n",
        "    elif p[1].gettokentype() == 'MUL':\n",
        "        return Mul(left, right)\n",
        "    elif p[1].gettokentype() == 'DIV':\n",
        "        return Div(left, right)\n",
        "    elif p[1].gettokentype() == 'EXP':\n",
        "        return Exp(left, right)\n",
        "    else:\n",
        "        raise AssertionError('Oops, this should not be possible!')\n",
        "\n",
        "parser = pg.build()"
      ],
      "execution_count": 75,
      "outputs": []
    },
    {
      "cell_type": "markdown",
      "metadata": {
        "id": "2jqRKa4zKMge"
      },
      "source": [
        "**ATIVIDADE EAD**\n",
        "\n",
        "Implemente um analisador sintático para a gramática modificada do exercício anterior:\n",
        "\n",
        "1.   Modifique a gramática anterior para permitir expressões envolvendo exponenciação (ˆ). Por exemplo: x = 2ˆ3.\n",
        "2.   Implente um analisador sintático para reconhecer ou recusar operações de exponenciação.\n",
        "\n"
      ]
    },
    {
      "cell_type": "code",
      "metadata": {
        "id": "0rmzPBjo0gNx",
        "outputId": "dc284040-eda7-4ffb-dd3d-2d2b04f13cee",
        "colab": {
          "base_uri": "https://localhost:8080/"
        }
      },
      "source": [
        "# 1.\r\n",
        "\r\n",
        "for token in lexer.lex('5**5'):\r\n",
        "  print(token)"
      ],
      "execution_count": 76,
      "outputs": [
        {
          "output_type": "stream",
          "text": [
            "Token('NUMBER', '5')\n",
            "Token('EXP', '**')\n",
            "Token('NUMBER', '5')\n"
          ],
          "name": "stdout"
        }
      ]
    },
    {
      "cell_type": "code",
      "metadata": {
        "id": "f9H91s7fFWdB",
        "colab": {
          "base_uri": "https://localhost:8080/"
        },
        "outputId": "b9efd6bb-13f6-4207-d331-b4331410c1ea"
      },
      "source": [
        "arvore=parser.parse(lexer.lex('x=1+2*3'))\n",
        "print(arvore)\n",
        "print(arvore.id)\n",
        "print(arvore.expression.eval())"
      ],
      "execution_count": 77,
      "outputs": [
        {
          "output_type": "stream",
          "text": [
            "<__main__.Attrib object at 0x7f125ea83450>\n",
            "x\n",
            "7\n"
          ],
          "name": "stdout"
        }
      ]
    },
    {
      "cell_type": "code",
      "metadata": {
        "colab": {
          "base_uri": "https://localhost:8080/"
        },
        "id": "s-Q_hwRy15z7",
        "outputId": "c56376e1-2d35-4b15-c1c3-013bd56bea92"
      },
      "source": [
        "arvore=parser.parse(lexer.lex('x=2**4'))\n",
        "print(arvore)\n",
        "print(arvore.id)\n",
        "print(arvore.expression.eval())"
      ],
      "execution_count": 81,
      "outputs": [
        {
          "output_type": "stream",
          "text": [
            "<__main__.Attrib object at 0x7f125eb07190>\n",
            "x\n",
            "16\n"
          ],
          "name": "stdout"
        }
      ]
    }
  ]
}