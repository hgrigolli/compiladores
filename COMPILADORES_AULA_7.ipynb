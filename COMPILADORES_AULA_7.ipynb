{
  "nbformat": 4,
  "nbformat_minor": 0,
  "metadata": {
    "colab": {
      "name": "COMPILADORES-AULA 7.ipynb",
      "provenance": [],
      "collapsed_sections": [],
      "include_colab_link": true
    },
    "kernelspec": {
      "name": "python3",
      "display_name": "Python 3"
    }
  },
  "cells": [
    {
      "cell_type": "markdown",
      "metadata": {
        "id": "view-in-github",
        "colab_type": "text"
      },
      "source": [
        "<a href=\"https://colab.research.google.com/github/lucianosilva-github/compiladores/blob/main/COMPILADORES_AULA_7.ipynb\" target=\"_parent\"><img src=\"https://colab.research.google.com/assets/colab-badge.svg\" alt=\"Open In Colab\"/></a>"
      ]
    },
    {
      "cell_type": "markdown",
      "metadata": {
        "id": "EwxHf3E81Qyz"
      },
      "source": [
        "**COMPILADORES - AULA 07**\n",
        "\n",
        "**Prof. Luciano Silva**\n",
        "\n",
        "**OBJETIVOS DA AULA:**\n",
        "\n",
        "*   Iniciar o estudo do analisador semântico\n",
        "*   Entender o processo de decoração da árvore sintática\n",
        "*   Aplicar o design pattern Visitor para realizar o processo de decoração da árvore sintática\n"
      ]
    },
    {
      "cell_type": "code",
      "metadata": {
        "id": "CbWUx55j1tLM"
      },
      "source": [
        "!pip install rply"
      ],
      "execution_count": null,
      "outputs": []
    },
    {
      "cell_type": "markdown",
      "metadata": {
        "id": "-c5kPp0Y64TT"
      },
      "source": [
        "**ANALISADOR SEMÂNTICO**\n",
        "\n",
        "O análise semântica é o terceiro passo no processo de compilação e é realizada pelo **analisador semântico**. \n",
        "\n",
        "<img src=\"https://www.researchgate.net/profile/Nuno-Oliveira-15/publication/266497079/figure/fig1/AS:295651775664128@1447500284302/Common-Compiler-Phases.png\"> <img>\n",
        "\n",
        "O analisador semântico realiza diversas operações como, por exemplo, decoração da árvore sintática, verificação de tipos e verificação de chamadas de procedimentos e funções.\n",
        "\n"
      ]
    },
    {
      "cell_type": "markdown",
      "metadata": {
        "id": "IMtgDh_BAjLP"
      },
      "source": [
        "**DECORAÇÃO DA ÁRVORE SINTÁTICA**\n",
        "\n",
        "O objetivo da decoração da árvore sintática consiste em adicionar informações semânticas na árvore sintática (tipo, quantidade de parâmetros, contexto, etc) de forma a facilitar os passos seguintes da análise semântica.\n",
        "\n",
        "Por exemplo, para o processo de verificação de tipos, precisamos ter todos os nós da árvore sintática (relacionados com tipos) com os seu respectivos tipos decorados na árvore. Na chamada de um procedimento e função, precisamos saber se estamos usando o número correto de parâmetros e estamos usando seus tipos corretamente.\n",
        "\n",
        "Abaixo, temos um exemplo de erro semântico:\n",
        "\n",
        "**int x=1,y;**\n",
        "\n",
        "**string nome=\"maria\";**\n",
        "\n",
        "**y=x+nome;**\n",
        "\n",
        "Observe que não há erro sintático. Porém, ao tentarmos somar x(inteiro) com nome(string), teremos uma incompatibilidade de tipos na soma. Para tratar isto, fazemos o processo em três passos:\n",
        "\n",
        "(1) montamos uma **tabela de símbolos** com a declaração das variáveis:\n",
        "\n",
        "<table>\n",
        "<tr> <td> <b>id</b> </td> <td> <b>type</b> </td> </tr>\n",
        "<tr> <td> x </td> <td> int </td> </tr>\n",
        "<tr> <td> y </td> <td> int </td> </tr>\n",
        "<tr> <td> nome </td>  <td> string </td>  </tr> \n",
        "</table>\n",
        "\n",
        "(2) decoramos os nós da árvore relativos à expressão aritmética:\n",
        "\n",
        "**y<font color=\"red\">(int)</font>=x<font color=\"red\">(int)</font>+nome<font color=\"red\">(string)</font>;**\n",
        "\n",
        "(3) no operador de soma, verificamor que os operandos x<font color=\"red\">(int)</font> e nome<font color=\"red\">(string)</font> são incompatíveis.\n",
        "\n",
        "**Cada um destes passos é realizado por um Visitor.**\n"
      ]
    },
    {
      "cell_type": "markdown",
      "metadata": {
        "id": "WDogT1ytJrEt"
      },
      "source": [
        "**EXERCÍCIO**\n",
        "\n",
        "Abaixo, temos uma gramática com expressões aritméticas envolvendo números inteiro (type = int).\n",
        "\n",
        "\\<expression\\> ::= NUMBER\n",
        "\n",
        "       | \\<expression\\> \"+\" \\<expression\\>\n",
        " \n",
        "       | \\<expression\\> \"-\" \\<expression\\>\n",
        " \n",
        "       | \\<expression\\> \"*\" \\<expression\\>\n",
        " \n",
        "       | \\<expression\\> \"/\" \\<expression\\>\n",
        " \n",
        "       | \"(\" <expression> \")\""
      ]
    },
    {
      "cell_type": "markdown",
      "metadata": {
        "id": "ebS9YMF3My8n"
      },
      "source": [
        "Abaixo, temos a implementação do analisador léxico para esta gramática:"
      ]
    },
    {
      "cell_type": "code",
      "metadata": {
        "id": "AohGQ2yWKDli"
      },
      "source": [
        "from rply import LexerGenerator\n",
        "\n",
        "lg = LexerGenerator()\n",
        "\n",
        "lg.add('NUMBER', r'\\d+')\n",
        "lg.add('PLUS', r'\\+')\n",
        "lg.add('MINUS', r'-')\n",
        "lg.add('MUL', r'\\*')\n",
        "lg.add('DIV', r'/')\n",
        "lg.add('OPEN_PARENS', r'\\(')\n",
        "lg.add('CLOSE_PARENS', r'\\)')\n",
        "\n",
        "lg.ignore('\\s+')\n",
        "\n",
        "lexer = lg.build()"
      ],
      "execution_count": 2,
      "outputs": []
    },
    {
      "cell_type": "markdown",
      "metadata": {
        "id": "TkFwbLH8NCuj"
      },
      "source": [
        "A seguir, temos a implementação das classes dos nós da árvore sintática, já com o método accept para receber os visitors:"
      ]
    },
    {
      "cell_type": "code",
      "metadata": {
        "id": "RLcu5RuHDl6B"
      },
      "source": [
        "from rply.token import BaseBox\n",
        "\n",
        "class Expr(BaseBox):\n",
        "    def accept(self, visitor):\n",
        "        method_name = 'visit_{}'.format(self.__class__.__name__.lower())\n",
        "        visit = getattr(visitor, method_name)\n",
        "        return visit(self)\n",
        "\n",
        "class Number(Expr):\n",
        "    def __init__(self, value):\n",
        "        self.value = value\n",
        "\n",
        "\n",
        "class BinaryOp(Expr):\n",
        "    def __init__(self, left, right):\n",
        "        self.left = left\n",
        "        self.right = right\n",
        "\n",
        "class Add(BinaryOp):\n",
        "  pass\n",
        "    \n",
        "\n",
        "class Sub(BinaryOp):\n",
        "  pass\n",
        "   \n",
        "\n",
        "class Mul(BinaryOp):\n",
        "  pass\n",
        "    \n",
        "\n",
        "class Div(BinaryOp):\n",
        "  pass\n",
        "    \n"
      ],
      "execution_count": 3,
      "outputs": []
    },
    {
      "cell_type": "markdown",
      "metadata": {
        "id": "H0thJ3zMNmp8"
      },
      "source": [
        "A seguir, temos um visitor que percorre a árvore sintática e resolve a expressão contida nela:"
      ]
    },
    {
      "cell_type": "code",
      "metadata": {
        "id": "1wHqpJ_7NaPf"
      },
      "source": [
        "class Visitor(object):\n",
        "    pass\n",
        "\n",
        "\n",
        "class Eval(Visitor):\n",
        "    def visit_number(self, i):\n",
        "        return i.value\n",
        "        \n",
        "    def visit_add(self, a):\n",
        "        return a.left.accept(self) + a.right.accept(self)\n",
        "\n",
        "    def visit_sub(self, a):\n",
        "        return a.left.accept(self) - a.right.accept(self)\n",
        "\n",
        "    def visit_mul(self, a):\n",
        "        return a.left.accept(self) * a.right.accept(self)\n",
        "\n",
        "    def visit_div(self, a):\n",
        "        return a.left.accept(self) / a.right.accept(self)\n"
      ],
      "execution_count": 4,
      "outputs": []
    },
    {
      "cell_type": "markdown",
      "metadata": {
        "id": "G_JyO9SgOPbC"
      },
      "source": [
        "Finalmente, temos o analisador sintático:"
      ]
    },
    {
      "cell_type": "code",
      "metadata": {
        "id": "2MB_wWwWEGcX"
      },
      "source": [
        "from rply import ParserGenerator\n",
        "\n",
        "pg = ParserGenerator(\n",
        "    # A list of all token names, accepted by the lexer.\n",
        "    ['NUMBER', 'OPEN_PARENS', 'CLOSE_PARENS',\n",
        "     'PLUS', 'MINUS', 'MUL', 'DIV'\n",
        "    ],\n",
        "    # A list of precedence rules with ascending precedence, to\n",
        "    # disambiguate ambiguous production rules.\n",
        "    precedence=[\n",
        "        ('left', ['PLUS', 'MINUS']),\n",
        "        ('left', ['MUL', 'DIV'])    \n",
        "    ]\n",
        ")\n",
        "\n",
        "@pg.production('expression : NUMBER')\n",
        "def expression_number(p):\n",
        "    # p is a list of the pieces matched by the right hand side of the\n",
        "    # rule\n",
        "    return Number(int(p[0].getstr()))\n",
        "\n",
        "@pg.production('expression : OPEN_PARENS expression CLOSE_PARENS')\n",
        "def expression_parens(p):\n",
        "    return p[1]\n",
        "\n",
        "@pg.production('expression : expression PLUS expression')\n",
        "@pg.production('expression : expression MINUS expression')\n",
        "@pg.production('expression : expression MUL expression')\n",
        "@pg.production('expression : expression DIV expression')\n",
        "def expression_binop(p):\n",
        "    left = p[0]\n",
        "    right = p[2]\n",
        "    if p[1].gettokentype() == 'PLUS':\n",
        "        return Add(left, right)\n",
        "    elif p[1].gettokentype() == 'MINUS':\n",
        "        return Sub(left, right)\n",
        "    elif p[1].gettokentype() == 'MUL':\n",
        "        return Mul(left, right)\n",
        "    elif p[1].gettokentype() == 'DIV':\n",
        "        return Div(left, right)\n",
        "    else:\n",
        "        raise AssertionError('Oops, this should not be possible!')\n",
        "\n",
        "parser = pg.build()"
      ],
      "execution_count": 5,
      "outputs": []
    },
    {
      "cell_type": "markdown",
      "metadata": {
        "id": "rIlF8kYLOT7R"
      },
      "source": [
        "Para testar o visitor, fazemos a análise sintática, geramos a árvore sintática e, finalmente, passamos o visitor de resolução a ela:"
      ]
    },
    {
      "cell_type": "code",
      "metadata": {
        "id": "f9H91s7fFWdB"
      },
      "source": [
        "arvore=parser.parse(lexer.lex('1+2*5'))\n",
        "print(arvore.accept(Eval()))"
      ],
      "execution_count": null,
      "outputs": []
    },
    {
      "cell_type": "markdown",
      "metadata": {
        "id": "abAOVnATPDC4"
      },
      "source": [
        "Implemente e teste um visitor para decorar esta árvore sintática, utilizando o seguinte conjunto de regras de tipo:\n",
        "\n",
        "NUMBER --> int\n",
        "\n",
        "int + int --> int\n",
        "\n",
        "int - int --> int\n",
        "\n",
        "int * int --> int\n",
        "\n",
        "int / int --> int\n"
      ]
    },
    {
      "cell_type": "code",
      "metadata": {
        "id": "VCdkh8doWFmZ"
      },
      "source": [
        "#implemente sua solução aqui"
      ],
      "execution_count": null,
      "outputs": []
    },
    {
      "cell_type": "markdown",
      "metadata": {
        "id": "cVnS1-NfbcWa"
      },
      "source": [
        "**ATIVIDADE ONLINE**\n",
        "\n",
        "A gramática abaixo aumenta a gramática vista em aula e acrescenta declaração de variáveis com os tipos int e string, assim como um comando de atribuição.\n",
        "\n",
        "(1) implemente um visitor para montar a tabela de símbolos\n",
        "\n",
        "(2) implemente um visitor para decorar a árvore sintática. Suponha que NUMBER tenha o tipo int\n"
      ]
    },
    {
      "cell_type": "markdown",
      "metadata": {
        "id": "V2DJEWc_b2aH"
      },
      "source": [
        "\\<var-decls\\> ::= \\<var-decl\\> \n",
        "\n",
        "       | \\<var-decls\\>\n",
        "\n",
        "\\<var-decl\\> ::= \\<type\\> ID ;\n",
        "\n",
        "\\<type\\> ::= int | string \n",
        "\n",
        "\\<atrib\\> ::= ID = \\<expression\\> ;\n",
        "\n",
        "\\<expression\\> ::= ID\n",
        "\n",
        "      | NUMBER\n",
        "\n",
        "      | \\<expression\\> \"+\" \\<expression\\>\n",
        " \n",
        "      | \\<expression\\> \"-\" \\<expression\\>\n",
        " \n",
        "      | \\<expression\\> \"*\" \\<expression\\>\n",
        " \n",
        "      | \\<expression\\> \"/\" \\<expression\\>\n",
        " \n",
        "      | \"(\" <expression> \")\""
      ]
    },
    {
      "cell_type": "code",
      "metadata": {
        "id": "TAoYMBUSd9R4"
      },
      "source": [
        "#faça sua implementação aqui"
      ],
      "execution_count": null,
      "outputs": []
    }
  ]
}